{
 "cells": [
  {
   "cell_type": "code",
   "execution_count": 60,
   "id": "b111ed0c",
   "metadata": {
    "slideshow": {
     "slide_type": "skip"
    }
   },
   "outputs": [
    {
     "data": {
      "text/plain": [
       "\"\\nThis 'Workbook' has all data to support the problem within the appendix.    \\n\\nIn addition there is also a Geopandas-workbook that is dedicated to plotting frog\\npopulations on a map of melbourne.  \\n\\nEnsure the files are all in the same dir folder and run this workbook then geopandas-workbook.\\nreferences to all plots are in this file report.  I ran out of time to create links to \\nthem, however everything should be clearly labled.\\n\""
      ]
     },
     "execution_count": 60,
     "metadata": {},
     "output_type": "execute_result"
    }
   ],
   "source": [
    "\"\"\"\n",
    "This 'Workbook' has all data to support the problem within the appendix.    \n",
    "\n",
    "In addition there is also a Geopandas-workbook that is dedicated to plotting frog\n",
    "populations on a map of melbourne.  \n",
    "\n",
    "Ensure the files are all in the same dir folder and run this workbook then geopandas-workbook.\n",
    "references to all plots are in this file report.  I ran out of time to create links to \n",
    "them, however everything should be clearly labled.\n",
    "\"\"\""
   ]
  },
  {
   "cell_type": "code",
   "execution_count": 61,
   "id": "584ee142",
   "metadata": {
    "slideshow": {
     "slide_type": "skip"
    }
   },
   "outputs": [],
   "source": [
    "from IPython.display import Markdown"
   ]
  },
  {
   "cell_type": "markdown",
   "id": "278c22a4",
   "metadata": {
    "slideshow": {
     "slide_type": "slide"
    }
   },
   "source": [
    "# Assignment 2\n",
    "# Data Analysis - Frog Census Data Melbourne"
   ]
  },
  {
   "cell_type": "markdown",
   "id": "ab971f78",
   "metadata": {
    "slideshow": {
     "slide_type": "slide"
    }
   },
   "source": [
    "# The Problem (Frame)"
   ]
  },
  {
   "cell_type": "markdown",
   "id": "3f418410",
   "metadata": {
    "slideshow": {
     "slide_type": "slide"
    }
   },
   "source": [
    "# 1. The Problem (Frame)\n",
    "\n",
    "The government has released the latest frog_census_data. \n",
    "\n",
    "As a local frog consultant, Kermit Consulting, you have been commissioned by an environmental frog conservation group (Frogs R' Us).  Frogs R'Us have had their biggest promised donation from IHeartFrogs to kick start frog conservation in the melbourne area, and want Kermit Consulting to investigate the latest data from the Frog Census.  \n",
    "\n"
   ]
  },
  {
   "cell_type": "markdown",
   "id": "037860bb",
   "metadata": {
    "slideshow": {
     "slide_type": "subslide"
    }
   },
   "source": [
    "Frogs R' Us and IheartFrogs do not agree upon how to spend the donated money to save Frogs.\n",
    "\n",
    "Frogs R' Us hypothesis is:\n",
    "- due to increased urbanisation the frog numbers in melbourne (specifically the Port Phillip and Westernport CMA Region) have been declining.  They beleive there are areas with higher numbers of frogs and areas with little to no frogs that require conservation. Frogs R'Us have proposed a Green Frog corridor through melbourne to link habitats between high density frog habitats.\n",
    "\n"
   ]
  },
  {
   "cell_type": "markdown",
   "id": "c4be221e",
   "metadata": {
    "slideshow": {
     "slide_type": "subslide"
    }
   },
   "source": [
    "IHeartFrogs hypothesis is:\n",
    "- there are areas with low numbers of frog species next to highly developed areas, and wants a dedicated Frog Sanctury to help preserve and grow those species where low numbers have been found. They would also love the idea of having their Great Aunt Freida's name imortalised in 'Freida Frog Sanctury'. Kermit Consulting has been asked to review the data and make a recommendation based on the data."
   ]
  },
  {
   "cell_type": "markdown",
   "id": "3478c785",
   "metadata": {
    "slideshow": {
     "slide_type": "subslide"
    }
   },
   "source": [
    "Initial Options:\n",
    "1. Frogs R Us proposal of a 'Green Frog Corridor'\n",
    "2. The Donors option of 'Frieda Frog Sanctury'\n",
    "3. Neither option is best for the Frogs. Either a new option is best to help the frogs, or the frog populations are doing well and do not need help in the Melbourne area."
   ]
  },
  {
   "cell_type": "markdown",
   "id": "a61d2f2a",
   "metadata": {
    "slideshow": {
     "slide_type": "slide"
    }
   },
   "source": [
    "## 1.1 DataFrames\n",
    "\n",
    "Frog Census results were created and updated on 20th August 2022, with Meta Data updated on the 16 March 2023.  This data is a combination of frog sightings (or sound recordings) from specific census data and incidental sightings of frogs.\n",
    "\n",
    "\n",
    "The data frame available:\n",
    "- './Frog_Census_Records.csv'<sup>1</sup> "
   ]
  },
  {
   "cell_type": "markdown",
   "id": "41156266",
   "metadata": {
    "slideshow": {
     "slide_type": "subslide"
    }
   },
   "source": [
    "It is important to note this snippet as per (ref.1) \n",
    "\n",
    "\"This dataset is a compilation of Frog Census records (citizen science program) and the preceding Frog Watch program for the Port Phillip and Westernport CMA Region. These presence-only records collected in an ad-hoc manner are combined with regional frog records form the Victorian Biodiversity Atlas (VBA) and results of Melbourne Water commissioned surveys for frogs. The latter data are largely targeting threatened species of frog.\n",
    "\n",
    "This in it self suggests that the data may not be extensive, nor free from error.\n"
   ]
  },
  {
   "cell_type": "markdown",
   "id": "36c655b2",
   "metadata": {
    "slideshow": {
     "slide_type": "slide"
    }
   },
   "source": [
    "## 1.2. Hypothesis\n",
    "\n",
    "Both hypothesis come from the knowledge that frogs live in wet habitats, eg. swampy ground, or river banks, and creeks, and are suseptable to water contamination, and humans do not like to live near insects and stagnant water.  \n",
    "It can therefore be summised that due to urbanisation there are less wet areas available to frog populations, and less areas of unpolluted water sources available for frogs to live in.  "
   ]
  },
  {
   "cell_type": "markdown",
   "id": "60e28854",
   "metadata": {
    "slideshow": {
     "slide_type": "subslide"
    }
   },
   "source": [
    "The question here is which of the following options should be recommended: \n",
    "1. Hypothesis - Frogs R Us proposal of a 'Green Frog Corridor'\n",
    "2. Hypothesis - 'Frieda Frog Sanctury' proposal\n",
    "3. Hypothesis - New proposal or Do nothing if the frog populations are stable."
   ]
  },
  {
   "cell_type": "markdown",
   "id": "e1954c60",
   "metadata": {
    "slideshow": {
     "slide_type": "subslide"
    }
   },
   "source": [
    "### 1.2.a Hypothesis - Frogs R Us proposal of a 'Green Frog Corridor'\n",
    "\n",
    "Do frogs live in isolated popluations that are dwindling that could be linked with a green corridor.  This hypothesis is born of the idea that there are groups of frog populations within the recorded area."
   ]
  },
  {
   "cell_type": "markdown",
   "id": "dad69d3c",
   "metadata": {
    "slideshow": {
     "slide_type": "subslide"
    }
   },
   "source": [
    "### 1.2.b Hypothesis - 'Frieda Frog Sanctury' proposal\n",
    "\n",
    "Are frog populations strong in isolated areas the could be preserved by a 'frog sanctuary'. This hypothesis is born of the idea that there are groups of frog populations within the recorded area that are at risk from human development. \n",
    "\n",
    "This assumes that the not only are the more populus frogs, but the less common frogs will also benefit from a sancury in the chosen location."
   ]
  },
  {
   "cell_type": "markdown",
   "id": "2e828243",
   "metadata": {
    "slideshow": {
     "slide_type": "subslide"
    }
   },
   "source": [
    "### 1.2.c. Hypothesis - New proposal\n",
    "\n",
    "Neither option is best for the Frogs. Propose new options to help the frogs.\n",
    "larger populations that might not need a sanctury\n",
    "assumes that endangered frogs that should be protected live within these areas.\n",
    "Hypothosis is that higher populations in settings that are less densly populated by humans.\n",
    "larger populations that might not need a sanctury\n",
    "Where might be a stable population that has lots of human population nearby.\n",
    "Where might be a small population that might be indanger"
   ]
  },
  {
   "cell_type": "markdown",
   "id": "0ec579b8",
   "metadata": {
    "slideshow": {
     "slide_type": "slide"
    }
   },
   "source": [
    "# 2. Exploration of Data"
   ]
  },
  {
   "cell_type": "markdown",
   "id": "a51141ba",
   "metadata": {
    "slideshow": {
     "slide_type": "subslide"
    }
   },
   "source": [
    "- Selects data that is relevant to the hypothesis-driven business question(s)\n",
    "- Uses data extraction techniques and formatting appropriate for the selected data."
   ]
  },
  {
   "cell_type": "markdown",
   "id": "2ff96719",
   "metadata": {
    "slideshow": {
     "slide_type": "subslide"
    }
   },
   "source": [
    "A summary of the DataFrame is:\n",
    "    \n",
    "<class 'pandas.core.frame.DataFrame'>\n",
    "RangeIndex: 31666 entries, 0 to 31665\n",
    "Data columns (total 12 columns):\n",
    "|    |Column               |Non-Null Count  |Dtype  |\n",
    "|--- |------               |--------------  |-----  |\n",
    "|0   |X                    |31666 non-null  |float64|\n",
    "|1   |Y                    |31666 non-null  |float64|\n",
    "|2   |OBJECTID             |31666 non-null  |int64  |\n",
    "|3   |Unique_ID            |31666 non-null  |int64  |\n",
    "|4   |Date                 |31666 non-null  |object |\n",
    "|5   |Time_Start           |7001 non-null   |object |\n",
    "|6   |Latitude             |31666 non-null  |float64|\n",
    "|7   |Longitude            |31666 non-null  |float64|\n",
    "|8   |Type_of_observation  |27135 non-null  |object |\n",
    "|9   |Scientific_name      |31666 non-null  |object |\n",
    "|10  |Common_name          |31666 non-null  |object |\n",
    "|11  |Number               |31666 non-null  |object |\n",
    "dtypes: float64(4), int64(2), object(6)"
   ]
  },
  {
   "cell_type": "markdown",
   "id": "d2345029",
   "metadata": {
    "slideshow": {
     "slide_type": "subslide"
    }
   },
   "source": [
    "#### Key information taken from this DataFrame summary is:  \n",
    "- There are 31666 entries or rows in this DataFrame.\n",
    "- Each row contains information for frogs recorded in a particular location on a particular date.\n",
    "- There are 12 columns in this DataFrame."
   ]
  },
  {
   "cell_type": "markdown",
   "id": "0c502634",
   "metadata": {
    "slideshow": {
     "slide_type": "subslide"
    }
   },
   "source": [
    "#### Of these 12 columns those of interest are:\n",
    "- 'Latitude' and 'Longitude' columns, for location of Frog populations in relation to each other,\n",
    "- 'Date' column is the date of recording.\n",
    "- 'Date' can be plotted with 'Latitude' and 'Longitude' to produce a picture of the change in populations over time. \n",
    "- 'Date' and 'Number' columns can be used to frog population trends. \n",
    "- 'Number' will give us the number of frogs recorded during each recording session."
   ]
  },
  {
   "cell_type": "markdown",
   "id": "f9a6d714",
   "metadata": {
    "slideshow": {
     "slide_type": "subslide"
    }
   },
   "source": [
    "#### Columns that can be put aside for the moment unless further analysis is required are:\n",
    "\n",
    "- 'Scientific_name' and 'Common_name' columns can be use used to determine what species of frogs are present in the recorded populations.  At FrogsRUs all frogs are important. May be of use later, so keep in dataFrame, but ignore\n"
   ]
  },
  {
   "cell_type": "markdown",
   "id": "cdc5fdab",
   "metadata": {
    "slideshow": {
     "slide_type": "subslide"
    }
   },
   "source": [
    "#### Not of use in dataframe so we will drop these columns:\n",
    "- 'X' and 'Y', it can be assumed these are for plotting, however the particular CRS has not been provided by data.vic.gov.au<sup>1</sup> nor Melbourne Water. We can use 'Longitude' and 'Latitude' to create our own data\n",
    "- 'ObjectID' and 'Unique_ID', do not add to our analysis so these columns are also to be ignored for the moment.  we can use the dataFrame index if we need one.\n",
    "\n"
   ]
  },
  {
   "cell_type": "markdown",
   "id": "ad0f45d2",
   "metadata": {
    "slideshow": {
     "slide_type": "subslide"
    }
   },
   "source": [
    "After dropping columns we do not require our dataFrame contains the columns: 'Date','Latitude','Longitude','ObservationType','ScientificName','CommonName', and 'FrogCount'\n",
    "\n",
    "This reduces our dataframe to 7 columns."
   ]
  },
  {
   "cell_type": "markdown",
   "id": "09e6091f",
   "metadata": {
    "slideshow": {
     "slide_type": "subslide"
    }
   },
   "source": [
    "Exploration/Extraction:\n",
    "- 'Date' is an object (we need this in dateTime format). \n",
    "- 'Date' range from the years 1960 to 2018.\n",
    "- There is a large range of years covered in this data. We know that there was rapid urbanisation in the past, however this is not relevant to todays problem. We focus on the data from the past 10 years only for up-to-date trends.\n",
    "- 'Number' is an object(we need this as an integer or float).\n",
    "- 'Number' is not a very good descriptor for the column so it was changed to 'FrogCount'.\n",
    "- 'Time_Start' column has no data for 78% of entries, and can therefore be removed. \n",
    "- 'Type_of_observation' has no entries for 4531 of the 31666 entries (this is 14 % of entries missing).We can keep this data, but ignore it for now unless we required it later."
   ]
  },
  {
   "cell_type": "markdown",
   "id": "e22f86bb",
   "metadata": {
    "slideshow": {
     "slide_type": "slide"
    }
   },
   "source": [
    "# 3. Data Preparation"
   ]
  },
  {
   "cell_type": "markdown",
   "id": "34f5d45e",
   "metadata": {
    "slideshow": {
     "slide_type": "slide"
    }
   },
   "source": [
    "● Implements data cleaning techniques such as removing duplicates and correcting erroneous values.\n",
    "● Organizes raw data into a workable, analytics-friendly format.\n",
    "\n",
    "As the data is gathered and entered by the community without, system limits on type of data, it is very important to clean this data. Here we are removing redundant, erroneous, or duplicated data and dealing with missing data. \n",
    "\n",
    "Important notes:\n",
    "- 'Time_Start' column has no data for 78% of entries and thus is removed. \n",
    "- 'Type_of_observation' has no entries for 4531 of the 31666 entries (this is 14 % of entries missing).\n",
    "- In exploring the 'FrogCount' Column we can see that there is a large number of values that are 'Unknown, etc.\n",
    "\n",
    "Simplification of the 'FrogCount' column is an important step by itself so has a section of its own."
   ]
  },
  {
   "cell_type": "markdown",
   "id": "87ff74e0",
   "metadata": {
    "slideshow": {
     "slide_type": "subslide"
    }
   },
   "source": [
    "### FrogCount Column\n",
    "\n",
    "- data entry has no format.\n",
    "\n",
    "In order to simplify the 'FrogCount' column the following assumptions have been made:\n",
    "- Each entry recorded will have atleast one frog found, therefore any values for 'unknown' data will be replaced with an integer of 1. \n",
    "- Valuecounts that values less than 5 will not have an impact on the overall population of frogs and can be simplified down to 1 count.\n",
    "- Handling missing data.  There are 23524 entry values of 'unknow'.  Each will be replaced with a value of 1 as  we assmue each row will have atleast one frog found.\n",
    "- For simplification we can also replace values less than 5 with a value of 1. \n",
    "\n",
    "Data format changes required a number of rules to ensure the data is in whole numbers and not a mixture of text and number values"
   ]
  },
  {
   "cell_type": "markdown",
   "id": "e31f9e04",
   "metadata": {
    "slideshow": {
     "slide_type": "subslide"
    }
   },
   "source": [
    "In order to deal with this data some rules were made to enable data analysis and uniformity. It was decided to add a column for the adjusted number values (called 'Population'). This is based on the following logic and assumptions.\n",
    "\n",
    "of the data in the column the following cases appear to be true:\n",
    "- integer values entered => new column value = old value.\n",
    "- integer value with '+' => new column value is the integer (strip the '+') (add a comment to the new column 'Comments') \n",
    "- integer value with '\\~' => new column value is the integer (strip the '~')(add a comment to the new column 'Comments')\n",
    "\n"
   ]
  },
  {
   "cell_type": "markdown",
   "id": "875abf1e",
   "metadata": {
    "slideshow": {
     "slide_type": "subslide"
    }
   },
   "source": [
    "- integer value with 'x' => new column value is the integer (strip the 'x')\n",
    "- two integer values with 'to' in => strip the 'to' from the value, and split the two remaining values. divide these numbers by two to get the new column value which is the average of the range of values\n",
    "- integer values separated by '.'. => new value = split the values and then return the sum of all the integers.\n",
    "- string value 'unknown' or 'Unknown'. new value is = 1.\n",
    "- integer with '>' or integer with string 'more than'.  => new value = striped integer.  (add a comment to the new column 'Comments')\n",
    "- other case = comments column = 'needs review'\n",
    "\n",
    " "
   ]
  },
  {
   "cell_type": "markdown",
   "id": "0d1c43fe",
   "metadata": {
    "slideshow": {
     "slide_type": "subslide"
    }
   },
   "source": [
    "There is an outlier to the data.\n",
    "it was determined that the updated value for the outlier 'Number' value 20190503\n",
    "is to be The following was the reasoning for changing this value to be \n",
    "list [20,1,90,50,3].\n",
    "\n",
    "If we look at pattern recognition and contextural clues it is reasonable to determin that this is appropriate as :-\n",
    "\n",
    "1. The data set otherwise does not normally have values over 100, and where numbers are recorded in the pattern list [5.1.9.1.50.3] there is no precident to 0 being recorded in this type of number pattern block.  \n",
    "2. these values fit with-in the values typically found when data is recorded in this pattern.\n",
    "3. the possible alternative of ignoring this data could introduce large errors as the data set is not extremely large.\n",
    "4. the other alternatives are to treat the list as \n",
    "- list [2,0,1,9,0,5,0,3] we have already assumed that as per other data recorded this does not match the pattern\n",
    "- list [20,1,90,50,3] this matches the pattern and is within the other values recorded.(an outlier of 90 is still within the normal values presented.\n",
    "- list [201,90,50,3] would produce an outlier of 201, which is still outside of the normal data. "
   ]
  },
  {
   "cell_type": "markdown",
   "id": "d70442fd",
   "metadata": {
    "slideshow": {
     "slide_type": "subslide"
    }
   },
   "source": [
    "Preparing the numbercolumn is shown in the Appendix in the function adjust_number"
   ]
  },
  {
   "cell_type": "markdown",
   "id": "e751505f",
   "metadata": {
    "slideshow": {
     "slide_type": "slide"
    }
   },
   "source": [
    "# 4. Analyze"
   ]
  },
  {
   "cell_type": "markdown",
   "id": "7e843aaa",
   "metadata": {
    "slideshow": {
     "slide_type": "subslide"
    }
   },
   "source": [
    "Analyze\n",
    "● Manipulates data for exploration, insight gathering, and analysis.\n",
    "● Uses rationale for revising the original business question, collecting \n",
    "more data based on the initial analysis, or continuing on to interpretation."
   ]
  },
  {
   "cell_type": "markdown",
   "id": "cd750f0f",
   "metadata": {
    "slideshow": {
     "slide_type": "subslide"
    }
   },
   "source": [
    "Data has been ploted by location, and year in the following plots:\n",
    " \n",
    "- PLOT_LOCATION1 (all data)\n",
    "- PLOT_LOCATION2 (cleaned data)\n",
    "- PLOT_LOCATION3 (cleaned 10 year data)\n",
    "- PLOT 4 (sum of population by year)\n",
    "- Plot 5 (heat map for 10 years of population by year)\n",
    "- Plots 6 - 10 (2 year groups of population by location)"
   ]
  },
  {
   "cell_type": "markdown",
   "id": "36c7cd6c",
   "metadata": {
    "slideshow": {
     "slide_type": "subslide"
    }
   },
   "source": [
    "In the GeoPandas notebook, MAP 1. also plots the cleaned data for populations for the past 10 years on a plot of melbourne. "
   ]
  },
  {
   "cell_type": "markdown",
   "id": "d9ab1ca5",
   "metadata": {
    "slideshow": {
     "slide_type": "subslide"
    }
   },
   "source": [
    "so far there is no indication that there is a decline in population using any of these plots. There was a slight increase in 2016 and then a small decrease, but down to above previous populations.\n",
    "Hypothosis 3 may be correct, that there is no need to create a frog sanctury, nor a corridor.  "
   ]
  },
  {
   "cell_type": "markdown",
   "id": "36ecb00e",
   "metadata": {
    "slideshow": {
     "slide_type": "subslide"
    }
   },
   "source": [
    "Changing direction to see if there are any populations close to FrogsRus that may\n",
    "be large enough to support using the haversine function (below in the Haversine Function) to calculate and add the distance from FrogsRus (as it is only 12 km from the melbourne cbd (located in Caulfield Park)) to the closest populations (within 30 km) and with populations of more than 5 frogs.\n"
   ]
  },
  {
   "cell_type": "markdown",
   "id": "badfde24",
   "metadata": {
    "slideshow": {
     "slide_type": "subslide"
    }
   },
   "source": [
    " Filtering the past 10 year data, and then filtering by distance to frogsrus, then sorting by 'Population' gives us TABLE 1. DISTANCE to FrogsRUS - population >5 and within 30km."
   ]
  },
  {
   "cell_type": "markdown",
   "id": "5bb73530",
   "metadata": {
    "slideshow": {
     "slide_type": "subslide"
    }
   },
   "source": [
    "Plotting the population by lat and long for the Table 1 and (Plot 11.) data shows us there is still a fairly consistent spread of frog populations over Melbourne.  "
   ]
  },
  {
   "cell_type": "markdown",
   "id": "7f989df2",
   "metadata": {
    "slideshow": {
     "slide_type": "subslide"
    }
   },
   "source": [
    "These plots are also in the geopandas file, which supports the data from this notebook."
   ]
  },
  {
   "cell_type": "markdown",
   "id": "d6226521",
   "metadata": {
    "slideshow": {
     "slide_type": "subslide"
    }
   },
   "source": [
    "This shows that the top 25 populations within 30 km of the FrogsRus (which is only 12 km from the center of melbourne) are scattered, with three sets of populations being near each other in locality. Of these populations (plotting these on the map of melbourne we can see by zooming in that all these populations are located either in public golf courses, current wetlands, or green areas.  This would suggest that these populations have survived due to their habitat having been preserved.  If we look at the overall data within 30 km we can see that the majority of these are in areas where there is already established green areas.  "
   ]
  },
  {
   "cell_type": "markdown",
   "id": "88a182aa",
   "metadata": {},
   "source": [
    "# 5. Interpret"
   ]
  },
  {
   "cell_type": "markdown",
   "id": "b90ad2ab",
   "metadata": {},
   "source": [
    "In summary: there are a total of 71700 frogs recorded over the life of the census data."
   ]
  },
  {
   "cell_type": "markdown",
   "id": "8b0c57e1",
   "metadata": {},
   "source": [
    "As per plots and tables as referenced in the Analyse stage there is no evidence of a decline in the frog populations within Melbourne.  Infact it can be shown in PLOT 4. of numbers of frogs vs year shows that there was an increase in the total frog populations in 2017, and then a slight reduction, but numbers in total are still hight than 2016 and every year before."
   ]
  },
  {
   "cell_type": "markdown",
   "id": "bdf4ff1e",
   "metadata": {},
   "source": [
    "When looking at the top populations within 30km of FrogsRus and with population numbers above 5, the geopandas file plots supports this data."
   ]
  },
  {
   "cell_type": "markdown",
   "id": "98dcfeb5",
   "metadata": {},
   "source": [
    "Hypothesis 1 and 2, (the frog sanctury and green corridor) have been fairly widely discreditedby the data as existing larger populations appear to be located in locations such as golf courses, and existing wetlands, and river/lake areas.  \n",
    "\n",
    "In addition there seems to be evidence that there are still small pockets of populations of <5 that are found throughout the entirity of melbourne.  This supports the idea that frogs are actually doing ok, however as we all love frogs our Recommendation is that the money spent should be on either an education program for citizens about where frog populations are and how to provide more backyard habitats to support the current populations, and help ensure that populations can continue to exist and hopefully increase.  \n",
    "\n",
    "There is also the option to monitor and reviewing the larger locations such as golf courses for land sales (to ensure greedy developers do not destroy these areas) or again education for land users."
   ]
  },
  {
   "cell_type": "markdown",
   "id": "bf149ee1",
   "metadata": {},
   "source": [
    "## References: \n",
    "- Ref.1: https://discover.data.vic.gov.au/dataset/frog-census-records3/resource/33787a03-4fd1-47e7-af76-daf899b29eac\n",
    "- Ref.2: https://frogs.org.au/frogs/ofVic/Melbourne\n",
    "- Workbook 13.class - Haversine equation and function"
   ]
  },
  {
   "cell_type": "markdown",
   "id": "75099fb8",
   "metadata": {},
   "source": [
    "ref. https://stackoverflow.com/questions/66709418/how-to-remove-a-character-from-some-rows-in-a-dataframe-column\n",
    "df['Price'].replace('.T', '', regex=True)\n",
    "Adjust Number column to be integer.  Need to remove x from the the entries first as this can be striped without any impact to the value."
   ]
  },
  {
   "cell_type": "markdown",
   "id": "f2de8487",
   "metadata": {},
   "source": [
    "Future areas that could be looked into if further analysis is required to help find correlations between data. \n",
    "- investigate Type_of_observation to see if the missing data has any impact on the data as a whole.\n",
    "- Check % of population by species.\n",
    "- combine observation type and look at how this has any bering on the data\n",
    "- graph the % of each of they types of observations so that we can make a decision of how much impact this column has on the total dataset.\n",
    "- GRAPH % of frogs found by type of observation)\n",
    "-then extract the time of day from the data. \n",
    "lets see if there are any\n",
    "- outliers for time of day.  perhaps some frogs were found during the day but by incidental means. ie dug up or caught in a trap."
   ]
  },
  {
   "cell_type": "markdown",
   "id": "eb62c29e",
   "metadata": {},
   "source": [
    "\n",
    "\n",
    "\n",
    "\n",
    "\n"
   ]
  },
  {
   "cell_type": "markdown",
   "id": "a370dbcd",
   "metadata": {},
   "source": [
    "# APPENDIX\n",
    "## The Data and Manipulation of the Data\n"
   ]
  },
  {
   "cell_type": "code",
   "execution_count": 2,
   "id": "5dc179c3",
   "metadata": {},
   "outputs": [],
   "source": [
    "import pandas as pd\n",
    "import numpy as np\n",
    "import matplotlib as plt\n",
    "from datetime import datetime"
   ]
  },
  {
   "cell_type": "code",
   "execution_count": 3,
   "id": "9abeb503",
   "metadata": {},
   "outputs": [],
   "source": [
    "frog_df = pd.read_csv('./Frog_Census_Records.csv')"
   ]
  },
  {
   "cell_type": "code",
   "execution_count": 4,
   "id": "793d7e65",
   "metadata": {},
   "outputs": [
    {
     "data": {
      "text/html": [
       "<div>\n",
       "<style scoped>\n",
       "    .dataframe tbody tr th:only-of-type {\n",
       "        vertical-align: middle;\n",
       "    }\n",
       "\n",
       "    .dataframe tbody tr th {\n",
       "        vertical-align: top;\n",
       "    }\n",
       "\n",
       "    .dataframe thead th {\n",
       "        text-align: right;\n",
       "    }\n",
       "</style>\n",
       "<table border=\"1\" class=\"dataframe\">\n",
       "  <thead>\n",
       "    <tr style=\"text-align: right;\">\n",
       "      <th></th>\n",
       "      <th>X</th>\n",
       "      <th>Y</th>\n",
       "      <th>OBJECTID</th>\n",
       "      <th>Unique_ID</th>\n",
       "      <th>Date</th>\n",
       "      <th>Time_Start</th>\n",
       "      <th>Latitude</th>\n",
       "      <th>Longitude</th>\n",
       "      <th>Type_of_observation</th>\n",
       "      <th>Scientific_name</th>\n",
       "      <th>Common_name</th>\n",
       "      <th>Number</th>\n",
       "    </tr>\n",
       "  </thead>\n",
       "  <tbody>\n",
       "    <tr>\n",
       "      <th>0</th>\n",
       "      <td>336582.9095</td>\n",
       "      <td>5.848231e+06</td>\n",
       "      <td>1</td>\n",
       "      <td>1</td>\n",
       "      <td>1960/01/15 00:00:00+00</td>\n",
       "      <td>NaN</td>\n",
       "      <td>-37.498402</td>\n",
       "      <td>145.151306</td>\n",
       "      <td>Incidental</td>\n",
       "      <td>Limnodynastes dumerilii</td>\n",
       "      <td>Eastern Banjo Frog</td>\n",
       "      <td>unknown</td>\n",
       "    </tr>\n",
       "    <tr>\n",
       "      <th>1</th>\n",
       "      <td>336582.9095</td>\n",
       "      <td>5.848231e+06</td>\n",
       "      <td>2</td>\n",
       "      <td>2</td>\n",
       "      <td>1960/01/15 00:00:00+00</td>\n",
       "      <td>NaN</td>\n",
       "      <td>-37.498402</td>\n",
       "      <td>145.151306</td>\n",
       "      <td>Incidental</td>\n",
       "      <td>Limnodynastes dumerilii</td>\n",
       "      <td>Eastern Banjo Frog</td>\n",
       "      <td>unknown</td>\n",
       "    </tr>\n",
       "    <tr>\n",
       "      <th>2</th>\n",
       "      <td>336582.9095</td>\n",
       "      <td>5.848231e+06</td>\n",
       "      <td>3</td>\n",
       "      <td>3</td>\n",
       "      <td>1960/01/15 00:00:00+00</td>\n",
       "      <td>NaN</td>\n",
       "      <td>-37.498402</td>\n",
       "      <td>145.151306</td>\n",
       "      <td>Incidental</td>\n",
       "      <td>Limnodynastes dumerilii</td>\n",
       "      <td>Eastern Banjo Frog</td>\n",
       "      <td>unknown</td>\n",
       "    </tr>\n",
       "    <tr>\n",
       "      <th>3</th>\n",
       "      <td>336582.9095</td>\n",
       "      <td>5.848231e+06</td>\n",
       "      <td>4</td>\n",
       "      <td>4</td>\n",
       "      <td>1960/01/15 00:00:00+00</td>\n",
       "      <td>NaN</td>\n",
       "      <td>-37.498402</td>\n",
       "      <td>145.151306</td>\n",
       "      <td>Incidental</td>\n",
       "      <td>Limnodynastes dumerilii</td>\n",
       "      <td>Eastern Banjo Frog</td>\n",
       "      <td>unknown</td>\n",
       "    </tr>\n",
       "    <tr>\n",
       "      <th>4</th>\n",
       "      <td>336582.9095</td>\n",
       "      <td>5.848231e+06</td>\n",
       "      <td>5</td>\n",
       "      <td>5</td>\n",
       "      <td>1960/01/15 00:00:00+00</td>\n",
       "      <td>NaN</td>\n",
       "      <td>-37.498402</td>\n",
       "      <td>145.151306</td>\n",
       "      <td>Incidental</td>\n",
       "      <td>Limnodynastes dumerilii</td>\n",
       "      <td>Eastern Banjo Frog</td>\n",
       "      <td>unknown</td>\n",
       "    </tr>\n",
       "  </tbody>\n",
       "</table>\n",
       "</div>"
      ],
      "text/plain": [
       "             X             Y  OBJECTID  Unique_ID                    Date  \\\n",
       "0  336582.9095  5.848231e+06         1          1  1960/01/15 00:00:00+00   \n",
       "1  336582.9095  5.848231e+06         2          2  1960/01/15 00:00:00+00   \n",
       "2  336582.9095  5.848231e+06         3          3  1960/01/15 00:00:00+00   \n",
       "3  336582.9095  5.848231e+06         4          4  1960/01/15 00:00:00+00   \n",
       "4  336582.9095  5.848231e+06         5          5  1960/01/15 00:00:00+00   \n",
       "\n",
       "  Time_Start   Latitude   Longitude Type_of_observation  \\\n",
       "0        NaN -37.498402  145.151306          Incidental   \n",
       "1        NaN -37.498402  145.151306          Incidental   \n",
       "2        NaN -37.498402  145.151306          Incidental   \n",
       "3        NaN -37.498402  145.151306          Incidental   \n",
       "4        NaN -37.498402  145.151306          Incidental   \n",
       "\n",
       "           Scientific_name         Common_name   Number  \n",
       "0  Limnodynastes dumerilii  Eastern Banjo Frog  unknown  \n",
       "1  Limnodynastes dumerilii  Eastern Banjo Frog  unknown  \n",
       "2  Limnodynastes dumerilii  Eastern Banjo Frog  unknown  \n",
       "3  Limnodynastes dumerilii  Eastern Banjo Frog  unknown  \n",
       "4  Limnodynastes dumerilii  Eastern Banjo Frog  unknown  "
      ]
     },
     "execution_count": 4,
     "metadata": {},
     "output_type": "execute_result"
    }
   ],
   "source": [
    "# a) Sample of the dataFrame.\n",
    "frog_df.head()"
   ]
  },
  {
   "cell_type": "code",
   "execution_count": 5,
   "id": "b966c6ad",
   "metadata": {},
   "outputs": [
    {
     "data": {
      "text/html": [
       "<div>\n",
       "<style scoped>\n",
       "    .dataframe tbody tr th:only-of-type {\n",
       "        vertical-align: middle;\n",
       "    }\n",
       "\n",
       "    .dataframe tbody tr th {\n",
       "        vertical-align: top;\n",
       "    }\n",
       "\n",
       "    .dataframe thead th {\n",
       "        text-align: right;\n",
       "    }\n",
       "</style>\n",
       "<table border=\"1\" class=\"dataframe\">\n",
       "  <thead>\n",
       "    <tr style=\"text-align: right;\">\n",
       "      <th></th>\n",
       "      <th>count</th>\n",
       "      <th>unique</th>\n",
       "      <th>top</th>\n",
       "      <th>freq</th>\n",
       "      <th>mean</th>\n",
       "      <th>std</th>\n",
       "      <th>min</th>\n",
       "      <th>25%</th>\n",
       "      <th>50%</th>\n",
       "      <th>75%</th>\n",
       "      <th>max</th>\n",
       "    </tr>\n",
       "  </thead>\n",
       "  <tbody>\n",
       "    <tr>\n",
       "      <th>X</th>\n",
       "      <td>31666.0</td>\n",
       "      <td>NaN</td>\n",
       "      <td>NaN</td>\n",
       "      <td>NaN</td>\n",
       "      <td>332657.630351</td>\n",
       "      <td>27288.244406</td>\n",
       "      <td>196147.4158</td>\n",
       "      <td>319755.1203</td>\n",
       "      <td>334353.662</td>\n",
       "      <td>348256.9388</td>\n",
       "      <td>450163.1396</td>\n",
       "    </tr>\n",
       "    <tr>\n",
       "      <th>Y</th>\n",
       "      <td>31666.0</td>\n",
       "      <td>NaN</td>\n",
       "      <td>NaN</td>\n",
       "      <td>NaN</td>\n",
       "      <td>5809364.0249</td>\n",
       "      <td>30649.236701</td>\n",
       "      <td>5674946.5621</td>\n",
       "      <td>5788650.9679</td>\n",
       "      <td>5814438.7589</td>\n",
       "      <td>5832917.9275</td>\n",
       "      <td>5901304.6376</td>\n",
       "    </tr>\n",
       "    <tr>\n",
       "      <th>OBJECTID</th>\n",
       "      <td>31666.0</td>\n",
       "      <td>NaN</td>\n",
       "      <td>NaN</td>\n",
       "      <td>NaN</td>\n",
       "      <td>15833.5</td>\n",
       "      <td>9141.331149</td>\n",
       "      <td>1.0</td>\n",
       "      <td>7917.25</td>\n",
       "      <td>15833.5</td>\n",
       "      <td>23749.75</td>\n",
       "      <td>31666.0</td>\n",
       "    </tr>\n",
       "    <tr>\n",
       "      <th>Unique_ID</th>\n",
       "      <td>31666.0</td>\n",
       "      <td>NaN</td>\n",
       "      <td>NaN</td>\n",
       "      <td>NaN</td>\n",
       "      <td>16170.784122</td>\n",
       "      <td>9584.998057</td>\n",
       "      <td>1.0</td>\n",
       "      <td>7919.25</td>\n",
       "      <td>15844.5</td>\n",
       "      <td>24264.75</td>\n",
       "      <td>33607.0</td>\n",
       "    </tr>\n",
       "    <tr>\n",
       "      <th>Date</th>\n",
       "      <td>31666</td>\n",
       "      <td>4792</td>\n",
       "      <td>2004/10/01 00:00:00+00</td>\n",
       "      <td>480</td>\n",
       "      <td>NaN</td>\n",
       "      <td>NaN</td>\n",
       "      <td>NaN</td>\n",
       "      <td>NaN</td>\n",
       "      <td>NaN</td>\n",
       "      <td>NaN</td>\n",
       "      <td>NaN</td>\n",
       "    </tr>\n",
       "    <tr>\n",
       "      <th>Time_Start</th>\n",
       "      <td>7001</td>\n",
       "      <td>2087</td>\n",
       "      <td>1899/12/30 08:00:00+00</td>\n",
       "      <td>215</td>\n",
       "      <td>NaN</td>\n",
       "      <td>NaN</td>\n",
       "      <td>NaN</td>\n",
       "      <td>NaN</td>\n",
       "      <td>NaN</td>\n",
       "      <td>NaN</td>\n",
       "      <td>NaN</td>\n",
       "    </tr>\n",
       "    <tr>\n",
       "      <th>Latitude</th>\n",
       "      <td>31666.0</td>\n",
       "      <td>NaN</td>\n",
       "      <td>NaN</td>\n",
       "      <td>NaN</td>\n",
       "      <td>-37.847426</td>\n",
       "      <td>0.277417</td>\n",
       "      <td>-39.073162</td>\n",
       "      <td>-38.03722</td>\n",
       "      <td>-37.801242</td>\n",
       "      <td>-37.63465</td>\n",
       "      <td>-37.01971</td>\n",
       "    </tr>\n",
       "    <tr>\n",
       "      <th>Longitude</th>\n",
       "      <td>31666.0</td>\n",
       "      <td>NaN</td>\n",
       "      <td>NaN</td>\n",
       "      <td>NaN</td>\n",
       "      <td>145.098288</td>\n",
       "      <td>0.308231</td>\n",
       "      <td>143.55423</td>\n",
       "      <td>144.956948</td>\n",
       "      <td>145.120662</td>\n",
       "      <td>145.272507</td>\n",
       "      <td>146.42387</td>\n",
       "    </tr>\n",
       "    <tr>\n",
       "      <th>Type_of_observation</th>\n",
       "      <td>27135</td>\n",
       "      <td>59</td>\n",
       "      <td>Incidental</td>\n",
       "      <td>8890</td>\n",
       "      <td>NaN</td>\n",
       "      <td>NaN</td>\n",
       "      <td>NaN</td>\n",
       "      <td>NaN</td>\n",
       "      <td>NaN</td>\n",
       "      <td>NaN</td>\n",
       "      <td>NaN</td>\n",
       "    </tr>\n",
       "    <tr>\n",
       "      <th>Scientific_name</th>\n",
       "      <td>31666</td>\n",
       "      <td>30</td>\n",
       "      <td>Crinia signifera</td>\n",
       "      <td>9203</td>\n",
       "      <td>NaN</td>\n",
       "      <td>NaN</td>\n",
       "      <td>NaN</td>\n",
       "      <td>NaN</td>\n",
       "      <td>NaN</td>\n",
       "      <td>NaN</td>\n",
       "      <td>NaN</td>\n",
       "    </tr>\n",
       "    <tr>\n",
       "      <th>Common_name</th>\n",
       "      <td>31666</td>\n",
       "      <td>23</td>\n",
       "      <td>Eastern Common Froglet</td>\n",
       "      <td>9203</td>\n",
       "      <td>NaN</td>\n",
       "      <td>NaN</td>\n",
       "      <td>NaN</td>\n",
       "      <td>NaN</td>\n",
       "      <td>NaN</td>\n",
       "      <td>NaN</td>\n",
       "      <td>NaN</td>\n",
       "    </tr>\n",
       "    <tr>\n",
       "      <th>Number</th>\n",
       "      <td>31666</td>\n",
       "      <td>271</td>\n",
       "      <td>unknown</td>\n",
       "      <td>23524</td>\n",
       "      <td>NaN</td>\n",
       "      <td>NaN</td>\n",
       "      <td>NaN</td>\n",
       "      <td>NaN</td>\n",
       "      <td>NaN</td>\n",
       "      <td>NaN</td>\n",
       "      <td>NaN</td>\n",
       "    </tr>\n",
       "  </tbody>\n",
       "</table>\n",
       "</div>"
      ],
      "text/plain": [
       "                       count unique                     top   freq  \\\n",
       "X                    31666.0    NaN                     NaN    NaN   \n",
       "Y                    31666.0    NaN                     NaN    NaN   \n",
       "OBJECTID             31666.0    NaN                     NaN    NaN   \n",
       "Unique_ID            31666.0    NaN                     NaN    NaN   \n",
       "Date                   31666   4792  2004/10/01 00:00:00+00    480   \n",
       "Time_Start              7001   2087  1899/12/30 08:00:00+00    215   \n",
       "Latitude             31666.0    NaN                     NaN    NaN   \n",
       "Longitude            31666.0    NaN                     NaN    NaN   \n",
       "Type_of_observation    27135     59              Incidental   8890   \n",
       "Scientific_name        31666     30        Crinia signifera   9203   \n",
       "Common_name            31666     23  Eastern Common Froglet   9203   \n",
       "Number                 31666    271                 unknown  23524   \n",
       "\n",
       "                              mean           std           min           25%  \\\n",
       "X                    332657.630351  27288.244406   196147.4158   319755.1203   \n",
       "Y                     5809364.0249  30649.236701  5674946.5621  5788650.9679   \n",
       "OBJECTID                   15833.5   9141.331149           1.0       7917.25   \n",
       "Unique_ID             16170.784122   9584.998057           1.0       7919.25   \n",
       "Date                           NaN           NaN           NaN           NaN   \n",
       "Time_Start                     NaN           NaN           NaN           NaN   \n",
       "Latitude                -37.847426      0.277417    -39.073162     -38.03722   \n",
       "Longitude               145.098288      0.308231     143.55423    144.956948   \n",
       "Type_of_observation            NaN           NaN           NaN           NaN   \n",
       "Scientific_name                NaN           NaN           NaN           NaN   \n",
       "Common_name                    NaN           NaN           NaN           NaN   \n",
       "Number                         NaN           NaN           NaN           NaN   \n",
       "\n",
       "                              50%           75%           max  \n",
       "X                      334353.662   348256.9388   450163.1396  \n",
       "Y                    5814438.7589  5832917.9275  5901304.6376  \n",
       "OBJECTID                  15833.5      23749.75       31666.0  \n",
       "Unique_ID                 15844.5      24264.75       33607.0  \n",
       "Date                          NaN           NaN           NaN  \n",
       "Time_Start                    NaN           NaN           NaN  \n",
       "Latitude               -37.801242     -37.63465     -37.01971  \n",
       "Longitude              145.120662    145.272507     146.42387  \n",
       "Type_of_observation           NaN           NaN           NaN  \n",
       "Scientific_name               NaN           NaN           NaN  \n",
       "Common_name                   NaN           NaN           NaN  \n",
       "Number                        NaN           NaN           NaN  "
      ]
     },
     "execution_count": 5,
     "metadata": {},
     "output_type": "execute_result"
    }
   ],
   "source": [
    "# b) what are some basic statistics for the dataframe?\n",
    "frog_df.describe(include = 'all').T"
   ]
  },
  {
   "cell_type": "code",
   "execution_count": 6,
   "id": "21320a1f",
   "metadata": {},
   "outputs": [
    {
     "data": {
      "text/plain": [
       "(31666, 12)"
      ]
     },
     "execution_count": 6,
     "metadata": {},
     "output_type": "execute_result"
    }
   ],
   "source": [
    "#c) what is the size of the data frame?\n",
    "frog_df.shape"
   ]
  },
  {
   "cell_type": "markdown",
   "id": "d333355d",
   "metadata": {},
   "source": [
    "d) Average data is for each column we are working with.\n",
    "\n",
    "From the two sets of output above i can see that there are:\n",
    "- 59 unique Type_of_observation/how the frogs were observed.\n",
    "- 30 scientific names.\n",
    "- 23 common names recorded.\n",
    "- Another interesting point is that the top entry by 'time_start', is 1899/12/30 08:00:00+00.\n",
    "- however the top entry by 'Date' is 2004/10/01 00:00:00+00\n",
    "- there are a total of 31666.0 entries"
   ]
  },
  {
   "cell_type": "markdown",
   "id": "438f030e",
   "metadata": {},
   "source": [
    "(*TODO*) This data brings up the following possibilities for the future:\n",
    " - comparing the numbers of frogs from date ranges for years or chunks of years.\n",
    " - And compare these chunks of dates and come up with some kind of frogs declining or not.  (remember to use bins for graphs where applicable).\n",
    " - look for trends in this data comparison."
   ]
  },
  {
   "cell_type": "markdown",
   "id": "ccab2272",
   "metadata": {},
   "source": [
    "# Investigating the data more on a high level"
   ]
  },
  {
   "cell_type": "code",
   "execution_count": 7,
   "id": "d6709087",
   "metadata": {},
   "outputs": [],
   "source": [
    "frog_prep_df = pd.read_csv('./Frog_Census_Records.csv')"
   ]
  },
  {
   "cell_type": "markdown",
   "id": "f939c2f7",
   "metadata": {},
   "source": [
    "## a list of column headings to check for data cleaning."
   ]
  },
  {
   "cell_type": "code",
   "execution_count": 8,
   "id": "f95e9758",
   "metadata": {},
   "outputs": [
    {
     "data": {
      "text/plain": [
       "['X',\n",
       " 'Y',\n",
       " 'OBJECTID',\n",
       " 'Unique_ID',\n",
       " 'Date',\n",
       " 'Time_Start',\n",
       " 'Latitude',\n",
       " 'Longitude',\n",
       " 'Type_of_observation',\n",
       " 'Scientific_name',\n",
       " 'Common_name',\n",
       " 'Number']"
      ]
     },
     "execution_count": 8,
     "metadata": {},
     "output_type": "execute_result"
    }
   ],
   "source": [
    "frog_prep_df.columns.to_list()"
   ]
  },
  {
   "cell_type": "markdown",
   "id": "95b80286",
   "metadata": {},
   "source": [
    "## summary of dataframe DataTypes"
   ]
  },
  {
   "cell_type": "code",
   "execution_count": 9,
   "id": "aa028b0e",
   "metadata": {},
   "outputs": [
    {
     "name": "stdout",
     "output_type": "stream",
     "text": [
      "<class 'pandas.core.frame.DataFrame'>\n",
      "RangeIndex: 31666 entries, 0 to 31665\n",
      "Data columns (total 12 columns):\n",
      " #   Column               Non-Null Count  Dtype  \n",
      "---  ------               --------------  -----  \n",
      " 0   X                    31666 non-null  float64\n",
      " 1   Y                    31666 non-null  float64\n",
      " 2   OBJECTID             31666 non-null  int64  \n",
      " 3   Unique_ID            31666 non-null  int64  \n",
      " 4   Date                 31666 non-null  object \n",
      " 5   Time_Start           7001 non-null   object \n",
      " 6   Latitude             31666 non-null  float64\n",
      " 7   Longitude            31666 non-null  float64\n",
      " 8   Type_of_observation  27135 non-null  object \n",
      " 9   Scientific_name      31666 non-null  object \n",
      " 10  Common_name          31666 non-null  object \n",
      " 11  Number               31666 non-null  object \n",
      "dtypes: float64(4), int64(2), object(6)\n",
      "memory usage: 2.9+ MB\n"
     ]
    }
   ],
   "source": [
    "frog_prep_df.info()"
   ]
  },
  {
   "cell_type": "code",
   "execution_count": 10,
   "id": "baf34d75",
   "metadata": {},
   "outputs": [
    {
     "data": {
      "text/html": [
       "<div>\n",
       "<style scoped>\n",
       "    .dataframe tbody tr th:only-of-type {\n",
       "        vertical-align: middle;\n",
       "    }\n",
       "\n",
       "    .dataframe tbody tr th {\n",
       "        vertical-align: top;\n",
       "    }\n",
       "\n",
       "    .dataframe thead th {\n",
       "        text-align: right;\n",
       "    }\n",
       "</style>\n",
       "<table border=\"1\" class=\"dataframe\">\n",
       "  <thead>\n",
       "    <tr style=\"text-align: right;\">\n",
       "      <th></th>\n",
       "      <th>DataType</th>\n",
       "    </tr>\n",
       "  </thead>\n",
       "  <tbody>\n",
       "    <tr>\n",
       "      <th>X</th>\n",
       "      <td>float64</td>\n",
       "    </tr>\n",
       "    <tr>\n",
       "      <th>Y</th>\n",
       "      <td>float64</td>\n",
       "    </tr>\n",
       "    <tr>\n",
       "      <th>OBJECTID</th>\n",
       "      <td>int64</td>\n",
       "    </tr>\n",
       "    <tr>\n",
       "      <th>Unique_ID</th>\n",
       "      <td>int64</td>\n",
       "    </tr>\n",
       "    <tr>\n",
       "      <th>Date</th>\n",
       "      <td>object</td>\n",
       "    </tr>\n",
       "    <tr>\n",
       "      <th>Time_Start</th>\n",
       "      <td>object</td>\n",
       "    </tr>\n",
       "    <tr>\n",
       "      <th>Latitude</th>\n",
       "      <td>float64</td>\n",
       "    </tr>\n",
       "    <tr>\n",
       "      <th>Longitude</th>\n",
       "      <td>float64</td>\n",
       "    </tr>\n",
       "    <tr>\n",
       "      <th>Type_of_observation</th>\n",
       "      <td>object</td>\n",
       "    </tr>\n",
       "    <tr>\n",
       "      <th>Scientific_name</th>\n",
       "      <td>object</td>\n",
       "    </tr>\n",
       "    <tr>\n",
       "      <th>Common_name</th>\n",
       "      <td>object</td>\n",
       "    </tr>\n",
       "    <tr>\n",
       "      <th>Number</th>\n",
       "      <td>object</td>\n",
       "    </tr>\n",
       "  </tbody>\n",
       "</table>\n",
       "</div>"
      ],
      "text/plain": [
       "                    DataType\n",
       "X                    float64\n",
       "Y                    float64\n",
       "OBJECTID               int64\n",
       "Unique_ID              int64\n",
       "Date                  object\n",
       "Time_Start            object\n",
       "Latitude             float64\n",
       "Longitude            float64\n",
       "Type_of_observation   object\n",
       "Scientific_name       object\n",
       "Common_name           object\n",
       "Number                object"
      ]
     },
     "execution_count": 10,
     "metadata": {},
     "output_type": "execute_result"
    }
   ],
   "source": [
    "pd.DataFrame(frog_prep_df.dtypes, columns=['DataType'])"
   ]
  },
  {
   "cell_type": "markdown",
   "id": "98bf6408",
   "metadata": {},
   "source": [
    "##  check how much data is missing from the original dataframe."
   ]
  },
  {
   "cell_type": "code",
   "execution_count": 11,
   "id": "e8a364dd",
   "metadata": {},
   "outputs": [
    {
     "data": {
      "text/plain": [
       "X                          0\n",
       "Y                          0\n",
       "OBJECTID                   0\n",
       "Unique_ID                  0\n",
       "Date                       0\n",
       "Time_Start             24665\n",
       "Latitude                   0\n",
       "Longitude                  0\n",
       "Type_of_observation     4531\n",
       "Scientific_name            0\n",
       "Common_name                0\n",
       "Number                     0\n",
       "dtype: int64"
      ]
     },
     "execution_count": 11,
     "metadata": {},
     "output_type": "execute_result"
    }
   ],
   "source": [
    "frog_prep_df.isnull().sum()"
   ]
  },
  {
   "cell_type": "code",
   "execution_count": 12,
   "id": "ca35c455",
   "metadata": {},
   "outputs": [
    {
     "data": {
      "text/plain": [
       "Time_Start             24665\n",
       "Type_of_observation     4531\n",
       "X                          0\n",
       "Y                          0\n",
       "OBJECTID                   0\n",
       "dtype: int64"
      ]
     },
     "execution_count": 12,
     "metadata": {},
     "output_type": "execute_result"
    }
   ],
   "source": [
    "frog_prep_df.isna().sum().sort_values(ascending = False).head()"
   ]
  },
  {
   "cell_type": "markdown",
   "id": "e82ed00e",
   "metadata": {},
   "source": [
    "Observations: \n",
    "- the number column is an object not an integer so we need to look at this in more detail.\n",
    "- There is missing data in the 'FrogCount' column, we need to clean this column.\n",
    "- of the columns the 'Time_Start' has no entries for 24665 of the 31666 entries(this is 78% of entries missing). This column will be dropped.\n",
    "- also 'type_of_observation' has no entries for 4531 of the 31666 entries (this is 14 % of entries missing).\n"
   ]
  },
  {
   "cell_type": "markdown",
   "id": "89f3d437",
   "metadata": {},
   "source": [
    "For interest I wanted to know how may entry types there are for 'Type_of_observation'.  There is no evidence to suggest that the 'Type_of_observation' had any impact on the survey, however this could be looked at in further detail at a later stage if required."
   ]
  },
  {
   "cell_type": "code",
   "execution_count": 13,
   "id": "abb01aba",
   "metadata": {},
   "outputs": [
    {
     "data": {
      "text/plain": [
       "59"
      ]
     },
     "execution_count": 13,
     "metadata": {},
     "output_type": "execute_result"
    }
   ],
   "source": [
    "frog_prep_df['Type_of_observation'].nunique()"
   ]
  },
  {
   "cell_type": "markdown",
   "id": "40f6762f",
   "metadata": {},
   "source": [
    "Now drop columns 'x', 'Y', 'OBJECTID', 'Unique_ID' and 'Time_Start'"
   ]
  },
  {
   "cell_type": "code",
   "execution_count": 14,
   "id": "c2f6cb07",
   "metadata": {},
   "outputs": [
    {
     "name": "stdout",
     "output_type": "stream",
     "text": [
      "<class 'pandas.core.frame.DataFrame'>\n",
      "RangeIndex: 31666 entries, 0 to 31665\n",
      "Data columns (total 7 columns):\n",
      " #   Column               Non-Null Count  Dtype  \n",
      "---  ------               --------------  -----  \n",
      " 0   Date                 31666 non-null  object \n",
      " 1   Latitude             31666 non-null  float64\n",
      " 2   Longitude            31666 non-null  float64\n",
      " 3   Type_of_observation  27135 non-null  object \n",
      " 4   Scientific_name      31666 non-null  object \n",
      " 5   Common_name          31666 non-null  object \n",
      " 6   Number               31666 non-null  object \n",
      "dtypes: float64(2), object(5)\n",
      "memory usage: 1.7+ MB\n"
     ]
    }
   ],
   "source": [
    "frog_prepdrop_df = frog_prep_df.drop(columns=['X','Y','OBJECTID','Unique_ID', 'Time_Start'])\n",
    "frog_prepdrop_df.info() "
   ]
  },
  {
   "cell_type": "code",
   "execution_count": 15,
   "id": "517c333a",
   "metadata": {},
   "outputs": [],
   "source": [
    "# As we dropped columns this is the missing data in the new data frame"
   ]
  },
  {
   "cell_type": "code",
   "execution_count": 16,
   "id": "5e9a7e1e",
   "metadata": {},
   "outputs": [
    {
     "data": {
      "text/plain": [
       "Type_of_observation    4531\n",
       "Date                      0\n",
       "Latitude                  0\n",
       "Longitude                 0\n",
       "Scientific_name           0\n",
       "dtype: int64"
      ]
     },
     "execution_count": 16,
     "metadata": {},
     "output_type": "execute_result"
    }
   ],
   "source": [
    "frog_prepdrop_df.isna().sum().sort_values(ascending = False).head()"
   ]
  },
  {
   "cell_type": "markdown",
   "id": "1fa66413",
   "metadata": {},
   "source": [
    "### Rename the columns like this:"
   ]
  },
  {
   "cell_type": "code",
   "execution_count": 17,
   "id": "2524f30b",
   "metadata": {},
   "outputs": [
    {
     "data": {
      "text/html": [
       "<div>\n",
       "<style scoped>\n",
       "    .dataframe tbody tr th:only-of-type {\n",
       "        vertical-align: middle;\n",
       "    }\n",
       "\n",
       "    .dataframe tbody tr th {\n",
       "        vertical-align: top;\n",
       "    }\n",
       "\n",
       "    .dataframe thead th {\n",
       "        text-align: right;\n",
       "    }\n",
       "</style>\n",
       "<table border=\"1\" class=\"dataframe\">\n",
       "  <thead>\n",
       "    <tr style=\"text-align: right;\">\n",
       "      <th></th>\n",
       "      <th>Date</th>\n",
       "      <th>Latitude</th>\n",
       "      <th>Longitude</th>\n",
       "      <th>ObservationType</th>\n",
       "      <th>ScientificName</th>\n",
       "      <th>CommonName</th>\n",
       "      <th>FrogCount</th>\n",
       "    </tr>\n",
       "  </thead>\n",
       "  <tbody>\n",
       "    <tr>\n",
       "      <th>0</th>\n",
       "      <td>1960/01/15 00:00:00+00</td>\n",
       "      <td>-37.498402</td>\n",
       "      <td>145.151306</td>\n",
       "      <td>Incidental</td>\n",
       "      <td>Limnodynastes dumerilii</td>\n",
       "      <td>Eastern Banjo Frog</td>\n",
       "      <td>unknown</td>\n",
       "    </tr>\n",
       "    <tr>\n",
       "      <th>1</th>\n",
       "      <td>1960/01/15 00:00:00+00</td>\n",
       "      <td>-37.498402</td>\n",
       "      <td>145.151306</td>\n",
       "      <td>Incidental</td>\n",
       "      <td>Limnodynastes dumerilii</td>\n",
       "      <td>Eastern Banjo Frog</td>\n",
       "      <td>unknown</td>\n",
       "    </tr>\n",
       "    <tr>\n",
       "      <th>2</th>\n",
       "      <td>1960/01/15 00:00:00+00</td>\n",
       "      <td>-37.498402</td>\n",
       "      <td>145.151306</td>\n",
       "      <td>Incidental</td>\n",
       "      <td>Limnodynastes dumerilii</td>\n",
       "      <td>Eastern Banjo Frog</td>\n",
       "      <td>unknown</td>\n",
       "    </tr>\n",
       "    <tr>\n",
       "      <th>3</th>\n",
       "      <td>1960/01/15 00:00:00+00</td>\n",
       "      <td>-37.498402</td>\n",
       "      <td>145.151306</td>\n",
       "      <td>Incidental</td>\n",
       "      <td>Limnodynastes dumerilii</td>\n",
       "      <td>Eastern Banjo Frog</td>\n",
       "      <td>unknown</td>\n",
       "    </tr>\n",
       "    <tr>\n",
       "      <th>4</th>\n",
       "      <td>1960/01/15 00:00:00+00</td>\n",
       "      <td>-37.498402</td>\n",
       "      <td>145.151306</td>\n",
       "      <td>Incidental</td>\n",
       "      <td>Limnodynastes dumerilii</td>\n",
       "      <td>Eastern Banjo Frog</td>\n",
       "      <td>unknown</td>\n",
       "    </tr>\n",
       "  </tbody>\n",
       "</table>\n",
       "</div>"
      ],
      "text/plain": [
       "                     Date   Latitude   Longitude ObservationType  \\\n",
       "0  1960/01/15 00:00:00+00 -37.498402  145.151306      Incidental   \n",
       "1  1960/01/15 00:00:00+00 -37.498402  145.151306      Incidental   \n",
       "2  1960/01/15 00:00:00+00 -37.498402  145.151306      Incidental   \n",
       "3  1960/01/15 00:00:00+00 -37.498402  145.151306      Incidental   \n",
       "4  1960/01/15 00:00:00+00 -37.498402  145.151306      Incidental   \n",
       "\n",
       "            ScientificName          CommonName FrogCount  \n",
       "0  Limnodynastes dumerilii  Eastern Banjo Frog   unknown  \n",
       "1  Limnodynastes dumerilii  Eastern Banjo Frog   unknown  \n",
       "2  Limnodynastes dumerilii  Eastern Banjo Frog   unknown  \n",
       "3  Limnodynastes dumerilii  Eastern Banjo Frog   unknown  \n",
       "4  Limnodynastes dumerilii  Eastern Banjo Frog   unknown  "
      ]
     },
     "execution_count": 17,
     "metadata": {},
     "output_type": "execute_result"
    }
   ],
   "source": [
    "frog_prep1 = frog_prepdrop_df.copy()\n",
    "\n",
    "frog_prep1.rename(columns ={\n",
    "    'Type_of_observation': 'ObservationType',\n",
    "    'Scientific_name': 'ScientificName',\n",
    "    'Common_name':'CommonName',\n",
    "    'Number':'FrogCount'\n",
    "}, inplace = True)\n",
    "\n",
    "frog_prep1.head()"
   ]
  },
  {
   "cell_type": "code",
   "execution_count": 18,
   "id": "437bc657",
   "metadata": {},
   "outputs": [
    {
     "data": {
      "text/plain": [
       "(31666, 7)"
      ]
     },
     "execution_count": 18,
     "metadata": {},
     "output_type": "execute_result"
    }
   ],
   "source": [
    "frog_prep1.shape"
   ]
  },
  {
   "cell_type": "code",
   "execution_count": 19,
   "id": "03d3dd11",
   "metadata": {},
   "outputs": [
    {
     "data": {
      "text/plain": [
       "ObservationType    4531\n",
       "Date                  0\n",
       "Latitude              0\n",
       "Longitude             0\n",
       "ScientificName        0\n",
       "dtype: int64"
      ]
     },
     "execution_count": 19,
     "metadata": {},
     "output_type": "execute_result"
    }
   ],
   "source": [
    "frog_prep1.isna().sum().sort_values(ascending = False).head()"
   ]
  },
  {
   "cell_type": "markdown",
   "id": "c46f198d",
   "metadata": {},
   "source": [
    "so 'ObservationType' has missing data, at this stage we are not worried about that."
   ]
  },
  {
   "cell_type": "markdown",
   "id": "67d80c80",
   "metadata": {},
   "source": [
    "### 'Number' Column as an integer not object\n",
    "To be able to assess the population of frogs we need to access the 'Numbers column'.  This is saved as an object. we need to change this to an integer.\n",
    "lets look at the Number columns unique values."
   ]
  },
  {
   "cell_type": "code",
   "execution_count": 20,
   "id": "d0c35ac4",
   "metadata": {},
   "outputs": [
    {
     "data": {
      "text/plain": [
       "271"
      ]
     },
     "execution_count": 20,
     "metadata": {},
     "output_type": "execute_result"
    }
   ],
   "source": [
    "frog_prep1['FrogCount'].nunique()"
   ]
  },
  {
   "cell_type": "markdown",
   "id": "2cfcb188",
   "metadata": {},
   "source": [
    "Lets investigate the 'number' column in more detail.unique() shows there are 271 unique values. The inconsistent format that we see when we run .unique on the 'Number' column suggests that the user had no bounds when entering these values."
   ]
  },
  {
   "cell_type": "code",
   "execution_count": 21,
   "id": "20738a57",
   "metadata": {
    "scrolled": true
   },
   "outputs": [
    {
     "data": {
      "text/plain": [
       "FrogCount\n",
       "unknown            23524\n",
       "More than 10        1902\n",
       "1                   1341\n",
       "1 to 3              1118\n",
       "query                966\n",
       "                   ...  \n",
       "1.2.1.2.1              1\n",
       "2.1.3.1.4.1.2.2        1\n",
       "1.1.3                  1\n",
       "7 to 10                1\n",
       "20190503               1\n",
       "Name: count, Length: 271, dtype: int64"
      ]
     },
     "execution_count": 21,
     "metadata": {},
     "output_type": "execute_result"
    }
   ],
   "source": [
    "frog_prep1['FrogCount'].value_counts()"
   ]
  },
  {
   "cell_type": "markdown",
   "id": "81643bc0",
   "metadata": {},
   "source": [
    "### Cleaning of 'FrogCount' column"
   ]
  },
  {
   "cell_type": "code",
   "execution_count": 22,
   "id": "a04a0688",
   "metadata": {},
   "outputs": [
    {
     "data": {
      "text/html": [
       "<div>\n",
       "<style scoped>\n",
       "    .dataframe tbody tr th:only-of-type {\n",
       "        vertical-align: middle;\n",
       "    }\n",
       "\n",
       "    .dataframe tbody tr th {\n",
       "        vertical-align: top;\n",
       "    }\n",
       "\n",
       "    .dataframe thead th {\n",
       "        text-align: right;\n",
       "    }\n",
       "</style>\n",
       "<table border=\"1\" class=\"dataframe\">\n",
       "  <thead>\n",
       "    <tr style=\"text-align: right;\">\n",
       "      <th></th>\n",
       "      <th>Date</th>\n",
       "      <th>Latitude</th>\n",
       "      <th>Longitude</th>\n",
       "      <th>ObservationType</th>\n",
       "      <th>ScientificName</th>\n",
       "      <th>CommonName</th>\n",
       "      <th>FrogCount</th>\n",
       "    </tr>\n",
       "  </thead>\n",
       "  <tbody>\n",
       "    <tr>\n",
       "      <th>0</th>\n",
       "      <td>1960/01/15 00:00:00+00</td>\n",
       "      <td>-37.498402</td>\n",
       "      <td>145.151306</td>\n",
       "      <td>Incidental</td>\n",
       "      <td>Limnodynastes dumerilii</td>\n",
       "      <td>Eastern Banjo Frog</td>\n",
       "      <td>unknown</td>\n",
       "    </tr>\n",
       "    <tr>\n",
       "      <th>1</th>\n",
       "      <td>1960/01/15 00:00:00+00</td>\n",
       "      <td>-37.498402</td>\n",
       "      <td>145.151306</td>\n",
       "      <td>Incidental</td>\n",
       "      <td>Limnodynastes dumerilii</td>\n",
       "      <td>Eastern Banjo Frog</td>\n",
       "      <td>unknown</td>\n",
       "    </tr>\n",
       "    <tr>\n",
       "      <th>2</th>\n",
       "      <td>1960/01/15 00:00:00+00</td>\n",
       "      <td>-37.498402</td>\n",
       "      <td>145.151306</td>\n",
       "      <td>Incidental</td>\n",
       "      <td>Limnodynastes dumerilii</td>\n",
       "      <td>Eastern Banjo Frog</td>\n",
       "      <td>unknown</td>\n",
       "    </tr>\n",
       "    <tr>\n",
       "      <th>3</th>\n",
       "      <td>1960/01/15 00:00:00+00</td>\n",
       "      <td>-37.498402</td>\n",
       "      <td>145.151306</td>\n",
       "      <td>Incidental</td>\n",
       "      <td>Limnodynastes dumerilii</td>\n",
       "      <td>Eastern Banjo Frog</td>\n",
       "      <td>unknown</td>\n",
       "    </tr>\n",
       "    <tr>\n",
       "      <th>4</th>\n",
       "      <td>1960/01/15 00:00:00+00</td>\n",
       "      <td>-37.498402</td>\n",
       "      <td>145.151306</td>\n",
       "      <td>Incidental</td>\n",
       "      <td>Limnodynastes dumerilii</td>\n",
       "      <td>Eastern Banjo Frog</td>\n",
       "      <td>unknown</td>\n",
       "    </tr>\n",
       "  </tbody>\n",
       "</table>\n",
       "</div>"
      ],
      "text/plain": [
       "                     Date   Latitude   Longitude ObservationType  \\\n",
       "0  1960/01/15 00:00:00+00 -37.498402  145.151306      Incidental   \n",
       "1  1960/01/15 00:00:00+00 -37.498402  145.151306      Incidental   \n",
       "2  1960/01/15 00:00:00+00 -37.498402  145.151306      Incidental   \n",
       "3  1960/01/15 00:00:00+00 -37.498402  145.151306      Incidental   \n",
       "4  1960/01/15 00:00:00+00 -37.498402  145.151306      Incidental   \n",
       "\n",
       "            ScientificName          CommonName FrogCount  \n",
       "0  Limnodynastes dumerilii  Eastern Banjo Frog   unknown  \n",
       "1  Limnodynastes dumerilii  Eastern Banjo Frog   unknown  \n",
       "2  Limnodynastes dumerilii  Eastern Banjo Frog   unknown  \n",
       "3  Limnodynastes dumerilii  Eastern Banjo Frog   unknown  \n",
       "4  Limnodynastes dumerilii  Eastern Banjo Frog   unknown  "
      ]
     },
     "execution_count": 22,
     "metadata": {},
     "output_type": "execute_result"
    }
   ],
   "source": [
    "number_frog_prep_df = frog_prep1.copy() \n",
    "number_frog_prep_df.head()"
   ]
  },
  {
   "cell_type": "code",
   "execution_count": 23,
   "id": "704a8122",
   "metadata": {
    "slideshow": {
     "slide_type": "skip"
    }
   },
   "outputs": [
    {
     "name": "stdout",
     "output_type": "stream",
     "text": [
      "Empty DataFrame\n",
      "Columns: [Date, Latitude, Longitude, ObservationType, ScientificName, CommonName, FrogCount, Population, Comments]\n",
      "Index: []\n",
      "                     Date   Latitude   Longitude ObservationType  \\\n",
      "0  1960/01/15 00:00:00+00 -37.498402  145.151306      Incidental   \n",
      "1  1960/01/15 00:00:00+00 -37.498402  145.151306      Incidental   \n",
      "2  1960/01/15 00:00:00+00 -37.498402  145.151306      Incidental   \n",
      "3  1960/01/15 00:00:00+00 -37.498402  145.151306      Incidental   \n",
      "4  1960/01/15 00:00:00+00 -37.498402  145.151306      Incidental   \n",
      "\n",
      "            ScientificName          CommonName FrogCount  Population  \\\n",
      "0  Limnodynastes dumerilii  Eastern Banjo Frog   unknown           1   \n",
      "1  Limnodynastes dumerilii  Eastern Banjo Frog   unknown           1   \n",
      "2  Limnodynastes dumerilii  Eastern Banjo Frog   unknown           1   \n",
      "3  Limnodynastes dumerilii  Eastern Banjo Frog   unknown           1   \n",
      "4  Limnodynastes dumerilii  Eastern Banjo Frog   unknown           1   \n",
      "\n",
      "           Comments  \n",
      "0  Unknown or query  \n",
      "1  Unknown or query  \n",
      "2  Unknown or query  \n",
      "3  Unknown or query  \n",
      "4  Unknown or query  \n"
     ]
    }
   ],
   "source": [
    "\"\"\"\n",
    "Converting the 'FrogCount to numbers (int)\n",
    "\n",
    "then changing values less than 5 to 1.\n",
    "\n",
    "# treat this outlier as explained above\n",
    "\n",
    "# 20190503 = list [20,1,90,50,3]\n",
    "\"\"\"\n",
    "\n",
    "import re\n",
    "\n",
    "def adjust_number(row):\n",
    "    comments = ''\n",
    "    number = re.sub('x', '', row['FrogCount'])\n",
    "    outlier = '20190503'\n",
    "    \n",
    "    if number == outlier:\n",
    "        number = sum([20+1+90+50+3])\n",
    "        comment = '20190503 to sum of list(20.1.90.50.3)' \n",
    "        return int(number), comments\n",
    "        \n",
    "#   case for integer\n",
    "    if number.isdigit():\n",
    "        return int(number), comments\n",
    "    \n",
    "    elif 'to' in number:\n",
    "        range = [int(x) for x in number.split(' to ')if x.isdigit()]\n",
    "        numbs = int(sum(range)/len(range))\n",
    "        comments = 'A range of values was given. Number is the average'\n",
    "        return numbs, comments\n",
    "    \n",
    "#     case for removing '-'    \n",
    "    elif '-' in number and '+' in number:\n",
    "        number = number.strip('+')\n",
    "#         print (f'- {number}')\n",
    "        range = [int(x) for x in number.split('-')if x.isdigit()]\n",
    "#         print (f'- {range}')\n",
    "        numbs = sum(range)/len(range)\n",
    "        numbs = int(numbs)\n",
    "#         print (f'- {numbs}')\n",
    "        comments = 'A range of values was given. Number is the average'\n",
    "        return numbs, comments\n",
    "       \n",
    "#     case for removing '~'\n",
    "    elif '~' in number:\n",
    "        comments = 'Approx value'\n",
    "        numb = number.strip('~')\n",
    "#         print(f'~ {numb}')\n",
    "        return int(numb), comments\n",
    "\n",
    "#     case for removing 'x'\n",
    "    elif 'x' in number:\n",
    "        numbs = number.strip('x')\n",
    "        return int(numbs), comments\n",
    "\n",
    "    elif '.' in number:\n",
    "        digits = []\n",
    "        for x in number.split('.'):\n",
    "            if x.isdigit():\n",
    "                digits.append(int(x))\n",
    "        numbs = sum(digits)\n",
    "#         numbs = [int(x) for x in number.split('.')if x.isdigit()]\n",
    "        comments = 'individual frog numbers were given separated by a period.'\n",
    "        return int(numbs), comments\n",
    "#         return sum(digits), comments\n",
    "\n",
    "#     case for '>' in integer\n",
    "    elif '>' in number:\n",
    "        comments = 'found more than recorded number of frogs'\n",
    "        numbs = number.strip('>')\n",
    "        return int(numbs), comments\n",
    "    \n",
    " #     case for removing '+'\n",
    "    elif '+' in number:\n",
    "        comments = 'Number of frogs is more than that recorded'\n",
    "        numb = number.rstrip('+')\n",
    "#         print(numb)\n",
    "        numb= int(numb)\n",
    "#         print(numb)\n",
    "        return int(numb), comments\n",
    "\n",
    "#    case for 'more than'\n",
    "    elif 'more than' in number.lower():\n",
    "        comments = 'found more than recorded number of frogs'\n",
    "        numbs = number.strip('More than')\n",
    "        return int(numbs), comments\n",
    "    \n",
    "#    case for known non integer entries.\n",
    "    elif 'unknown' in number.lower() or 'query' in number.lower() or 'Unknown' in number or '1 or 2' in number:\n",
    "        comments = 'Unknown or query'\n",
    "        numb = int(1)\n",
    "#         print(numb)\n",
    "        return numb, comments\n",
    "    \n",
    "#     any other case\n",
    "    else:\n",
    "        comments = \"Needs review\"\n",
    "        return np.nan, comments\n",
    "#     check if 'comments' column exists if not add it\n",
    "    if comments not in frog_prep_df.columns:\n",
    "        number_frog_prep_df['comments']=''\n",
    "\n",
    "adjusted_results = number_frog_prep_df.apply(adjust_number, axis=1, result_type='expand')\n",
    "number_frog_prep_df['Population'] = adjusted_results[0]\n",
    "number_frog_prep_df['Comments'] = adjusted_results[1]\n",
    "\n",
    "print(number_frog_prep_df[number_frog_prep_df['Comments'] == 'Needs review'])\n",
    "print(number_frog_prep_df.head())\n",
    "\n",
    "# Save the updated DataFrame to a new CSV file if needed      \n",
    "number_frog_prep_df.to_csv('cleaned_frog_data.csv', index=False) \n"
   ]
  },
  {
   "cell_type": "code",
   "execution_count": 24,
   "id": "0c5b36eb",
   "metadata": {},
   "outputs": [
    {
     "name": "stdout",
     "output_type": "stream",
     "text": [
      "                     Date   Latitude   Longitude ObservationType  \\\n",
      "0  1960/01/15 00:00:00+00 -37.498402  145.151306      Incidental   \n",
      "\n",
      "            ScientificName          CommonName FrogCount  Population  \\\n",
      "0  Limnodynastes dumerilii  Eastern Banjo Frog   unknown           1   \n",
      "\n",
      "           Comments  \n",
      "0  Unknown or query  \n"
     ]
    }
   ],
   "source": [
    "number_fdf = pd.read_csv('./cleaned_frog_data.csv') \n",
    "\n",
    "number_fdf['Population'] = pd.to_numeric(number_fdf['Population'], errors = 'coerce')\n",
    "number_fdf['Population'] = number_fdf['Population'].fillna(0)\n",
    "number_fdf['Population'] = number_fdf['Population'].apply(lambda x: 1 if x < 5 else x)\n",
    "\n",
    "# Display the updated DataFrame\n",
    "print(number_fdf.head(1))\n",
    "number_fdf['Population'].value_counts()\n",
    "# Save the updated DataFrame to a new CSV file if needed      \n",
    "number_frog_prep_df.to_csv('cleaned_frog_data2.csv', index=False) "
   ]
  },
  {
   "cell_type": "code",
   "execution_count": 25,
   "id": "e402d0cd",
   "metadata": {},
   "outputs": [
    {
     "data": {
      "text/plain": [
       "(31666, 9)"
      ]
     },
     "execution_count": 25,
     "metadata": {},
     "output_type": "execute_result"
    }
   ],
   "source": [
    "frog_prep2_df = pd.read_csv('./cleaned_frog_data2.csv')\n",
    "frog_prep2_df.shape"
   ]
  },
  {
   "cell_type": "code",
   "execution_count": 28,
   "id": "36c3f53c",
   "metadata": {},
   "outputs": [
    {
     "name": "stdout",
     "output_type": "stream",
     "text": [
      "The DataFrame has 31666 rows.\n"
     ]
    }
   ],
   "source": [
    "numberofrows= len(frog_prep2_df)\n",
    "print(f'The DataFrame has {numberofrows} rows.')"
   ]
  },
  {
   "cell_type": "code",
   "execution_count": 29,
   "id": "cd7ff47f",
   "metadata": {},
   "outputs": [
    {
     "data": {
      "text/plain": [
       "Population\n",
       "1      25890\n",
       "10      2039\n",
       "2       1416\n",
       "4        754\n",
       "7        598\n",
       "       ...  \n",
       "32         1\n",
       "53         1\n",
       "31         1\n",
       "61         1\n",
       "164        1\n",
       "Name: count, Length: 66, dtype: int64"
      ]
     },
     "execution_count": 29,
     "metadata": {},
     "output_type": "execute_result"
    }
   ],
   "source": [
    "frog_prep2_df['Population'].value_counts()"
   ]
  },
  {
   "cell_type": "code",
   "execution_count": 30,
   "id": "a121625c",
   "metadata": {},
   "outputs": [
    {
     "name": "stdout",
     "output_type": "stream",
     "text": [
      "71700\n"
     ]
    }
   ],
   "source": [
    "totalnumberoffrogs = frog_prep2_df['Population'].sum()\n",
    "print (totalnumberoffrogs)"
   ]
  },
  {
   "cell_type": "code",
   "execution_count": 31,
   "id": "8fdee889",
   "metadata": {},
   "outputs": [
    {
     "name": "stdout",
     "output_type": "stream",
     "text": [
      "2.2642581949093663\n"
     ]
    }
   ],
   "source": [
    "avg_no_frogs_per_recording = totalnumberoffrogs/len(frog_prep2_df)\n",
    "print (avg_no_frogs_per_recording)"
   ]
  },
  {
   "cell_type": "markdown",
   "id": "401a4add",
   "metadata": {},
   "source": [
    "# PLOT LOCATION"
   ]
  },
  {
   "cell_type": "markdown",
   "id": "74e08d17",
   "metadata": {},
   "source": [
    "# - PLOT_LOCATION1- all data"
   ]
  },
  {
   "cell_type": "code",
   "execution_count": 32,
   "id": "4bb0ec68",
   "metadata": {},
   "outputs": [
    {
     "data": {
      "text/plain": [
       "<Axes: xlabel='Latitude', ylabel='Longitude'>"
      ]
     },
     "execution_count": 32,
     "metadata": {},
     "output_type": "execute_result"
    },
    {
     "data": {
      "image/png": "[encoded data removed]",
      "text/plain": [
       "<Figure size 640x480 with 1 Axes>"
      ]
     },
     "metadata": {},
     "output_type": "display_data"
    }
   ],
   "source": [
    "frog_prep1[['Latitude', 'Longitude']].plot(kind='scatter', x= 'Latitude', y = 'Longitude')\n",
    "# make a scatter plot of the original data to see if we can see the outline of melb"
   ]
  },
  {
   "cell_type": "markdown",
   "id": "70000572",
   "metadata": {},
   "source": [
    "Do the same with the new data frame."
   ]
  },
  {
   "cell_type": "markdown",
   "id": "25235a03",
   "metadata": {},
   "source": [
    "# - PLOT_LOCATION-2 (cleaned data)"
   ]
  },
  {
   "cell_type": "code",
   "execution_count": 33,
   "id": "1c844509",
   "metadata": {
    "scrolled": true
   },
   "outputs": [
    {
     "data": {
      "text/plain": [
       "<Axes: xlabel='Latitude', ylabel='Longitude'>"
      ]
     },
     "execution_count": 33,
     "metadata": {},
     "output_type": "execute_result"
    },
    {
     "data": {
      "image/png": "[encoded data removed]",
      "text/plain": [
       "<Figure size 640x480 with 1 Axes>"
      ]
     },
     "metadata": {},
     "output_type": "display_data"
    }
   ],
   "source": [
    "frog_prep2_df[['Latitude', 'Longitude']].plot(kind='scatter', x= 'Latitude', y = 'Longitude')"
   ]
  },
  {
   "cell_type": "markdown",
   "id": "ae63b95e",
   "metadata": {},
   "source": [
    "Our scatter plot shows that there are recorded frog sightings all across melbourne.\n",
    "\n",
    "For this to be relevant to our hypothesis we need to plot for time."
   ]
  },
  {
   "cell_type": "markdown",
   "id": "d428e531",
   "metadata": {},
   "source": [
    "### Please see the geopandas notebook for these plots on a map of melbourne"
   ]
  },
  {
   "cell_type": "markdown",
   "id": "32048f37",
   "metadata": {},
   "source": [
    "We need to convert the 'Date' column to datetime so that we can use this in our analysis."
   ]
  },
  {
   "cell_type": "markdown",
   "id": "4d3f8e2b",
   "metadata": {},
   "source": []
  },
  {
   "cell_type": "code",
   "execution_count": 31,
   "id": "d8a7d494",
   "metadata": {},
   "outputs": [],
   "source": [
    "frog_prep2_df['Date_parsed'] = pd.to_datetime(frog_prep2_df['Date'])"
   ]
  },
  {
   "cell_type": "code",
   "execution_count": 32,
   "id": "3982e491",
   "metadata": {},
   "outputs": [
    {
     "data": {
      "text/html": [
       "<div>\n",
       "<style scoped>\n",
       "    .dataframe tbody tr th:only-of-type {\n",
       "        vertical-align: middle;\n",
       "    }\n",
       "\n",
       "    .dataframe tbody tr th {\n",
       "        vertical-align: top;\n",
       "    }\n",
       "\n",
       "    .dataframe thead th {\n",
       "        text-align: right;\n",
       "    }\n",
       "</style>\n",
       "<table border=\"1\" class=\"dataframe\">\n",
       "  <thead>\n",
       "    <tr style=\"text-align: right;\">\n",
       "      <th></th>\n",
       "      <th>Date</th>\n",
       "      <th>Date_parsed</th>\n",
       "    </tr>\n",
       "  </thead>\n",
       "  <tbody>\n",
       "    <tr>\n",
       "      <th>0</th>\n",
       "      <td>1960/01/15 00:00:00+00</td>\n",
       "      <td>1960-01-15 00:00:00+00:00</td>\n",
       "    </tr>\n",
       "    <tr>\n",
       "      <th>1</th>\n",
       "      <td>1960/01/15 00:00:00+00</td>\n",
       "      <td>1960-01-15 00:00:00+00:00</td>\n",
       "    </tr>\n",
       "    <tr>\n",
       "      <th>2</th>\n",
       "      <td>1960/01/15 00:00:00+00</td>\n",
       "      <td>1960-01-15 00:00:00+00:00</td>\n",
       "    </tr>\n",
       "    <tr>\n",
       "      <th>3</th>\n",
       "      <td>1960/01/15 00:00:00+00</td>\n",
       "      <td>1960-01-15 00:00:00+00:00</td>\n",
       "    </tr>\n",
       "    <tr>\n",
       "      <th>4</th>\n",
       "      <td>1960/01/15 00:00:00+00</td>\n",
       "      <td>1960-01-15 00:00:00+00:00</td>\n",
       "    </tr>\n",
       "  </tbody>\n",
       "</table>\n",
       "</div>"
      ],
      "text/plain": [
       "                     Date               Date_parsed\n",
       "0  1960/01/15 00:00:00+00 1960-01-15 00:00:00+00:00\n",
       "1  1960/01/15 00:00:00+00 1960-01-15 00:00:00+00:00\n",
       "2  1960/01/15 00:00:00+00 1960-01-15 00:00:00+00:00\n",
       "3  1960/01/15 00:00:00+00 1960-01-15 00:00:00+00:00\n",
       "4  1960/01/15 00:00:00+00 1960-01-15 00:00:00+00:00"
      ]
     },
     "execution_count": 32,
     "metadata": {},
     "output_type": "execute_result"
    }
   ],
   "source": [
    "frog_prep2_df[['Date','Date_parsed']].head()"
   ]
  },
  {
   "cell_type": "markdown",
   "id": "1ceb84f9",
   "metadata": {},
   "source": [
    "This gives us the last 10 years worth of data."
   ]
  },
  {
   "cell_type": "code",
   "execution_count": 33,
   "id": "b488e077",
   "metadata": {},
   "outputs": [
    {
     "name": "stdout",
     "output_type": "stream",
     "text": [
      "<class 'pandas.core.frame.DataFrame'>\n",
      "Index: 12950 entries, 18716 to 31665\n",
      "Data columns (total 10 columns):\n",
      " #   Column           Non-Null Count  Dtype              \n",
      "---  ------           --------------  -----              \n",
      " 0   Date             12950 non-null  object             \n",
      " 1   Latitude         12950 non-null  float64            \n",
      " 2   Longitude        12950 non-null  float64            \n",
      " 3   ObservationType  10562 non-null  object             \n",
      " 4   ScientificName   12950 non-null  object             \n",
      " 5   CommonName       12950 non-null  object             \n",
      " 6   FrogCount        12950 non-null  object             \n",
      " 7   Population       12950 non-null  int64              \n",
      " 8   Comments         10766 non-null  object             \n",
      " 9   Date_parsed      12950 non-null  datetime64[ns, UTC]\n",
      "dtypes: datetime64[ns, UTC](1), float64(2), int64(1), object(6)\n",
      "memory usage: 1.1+ MB\n"
     ]
    }
   ],
   "source": [
    "date_df1 = frog_prep2_df[frog_prep2_df['Date_parsed'].dt.year >= 2008]\n",
    "date_df1.info()"
   ]
  },
  {
   "cell_type": "code",
   "execution_count": 34,
   "id": "f59ce3bc",
   "metadata": {},
   "outputs": [
    {
     "data": {
      "text/plain": [
       "(12950, 10)"
      ]
     },
     "execution_count": 34,
     "metadata": {},
     "output_type": "execute_result"
    }
   ],
   "source": [
    "date_df1.shape"
   ]
  },
  {
   "cell_type": "code",
   "execution_count": 35,
   "id": "7f668f47",
   "metadata": {},
   "outputs": [],
   "source": [
    "ten_year_df =  date_df1.copy()\n",
    "# save this to last_10years_clean_df\n",
    "ten_year_df.to_csv('last_10years_clean_df.csv', index=False) "
   ]
  },
  {
   "cell_type": "code",
   "execution_count": 36,
   "id": "00bf1cc5",
   "metadata": {},
   "outputs": [
    {
     "data": {
      "text/html": [
       "<div>\n",
       "<style scoped>\n",
       "    .dataframe tbody tr th:only-of-type {\n",
       "        vertical-align: middle;\n",
       "    }\n",
       "\n",
       "    .dataframe tbody tr th {\n",
       "        vertical-align: top;\n",
       "    }\n",
       "\n",
       "    .dataframe thead th {\n",
       "        text-align: right;\n",
       "    }\n",
       "</style>\n",
       "<table border=\"1\" class=\"dataframe\">\n",
       "  <thead>\n",
       "    <tr style=\"text-align: right;\">\n",
       "      <th></th>\n",
       "      <th>Date</th>\n",
       "      <th>Latitude</th>\n",
       "      <th>Longitude</th>\n",
       "      <th>ObservationType</th>\n",
       "      <th>ScientificName</th>\n",
       "      <th>CommonName</th>\n",
       "      <th>FrogCount</th>\n",
       "      <th>Population</th>\n",
       "      <th>Comments</th>\n",
       "      <th>Date_parsed</th>\n",
       "    </tr>\n",
       "  </thead>\n",
       "  <tbody>\n",
       "    <tr>\n",
       "      <th>18716</th>\n",
       "      <td>2008/01/01 00:00:00+00</td>\n",
       "      <td>-38.470445</td>\n",
       "      <td>144.978922</td>\n",
       "      <td>NaN</td>\n",
       "      <td>Litoria ewingii</td>\n",
       "      <td>Southern Brown Tree Frog</td>\n",
       "      <td>query</td>\n",
       "      <td>1</td>\n",
       "      <td>Unknown or query</td>\n",
       "      <td>2008-01-01 00:00:00+00:00</td>\n",
       "    </tr>\n",
       "    <tr>\n",
       "      <th>18717</th>\n",
       "      <td>2008/01/01 00:00:00+00</td>\n",
       "      <td>-38.470435</td>\n",
       "      <td>144.978831</td>\n",
       "      <td>NaN</td>\n",
       "      <td>Crinia signifera</td>\n",
       "      <td>Eastern Common Froglet</td>\n",
       "      <td>query</td>\n",
       "      <td>1</td>\n",
       "      <td>Unknown or query</td>\n",
       "      <td>2008-01-01 00:00:00+00:00</td>\n",
       "    </tr>\n",
       "    <tr>\n",
       "      <th>18718</th>\n",
       "      <td>2008/01/01 00:00:00+00</td>\n",
       "      <td>-38.470399</td>\n",
       "      <td>144.978844</td>\n",
       "      <td>NaN</td>\n",
       "      <td>Litoria verreauxii verreauxii</td>\n",
       "      <td>Whistling Tree Frog</td>\n",
       "      <td>query</td>\n",
       "      <td>1</td>\n",
       "      <td>Unknown or query</td>\n",
       "      <td>2008-01-01 00:00:00+00:00</td>\n",
       "    </tr>\n",
       "    <tr>\n",
       "      <th>18719</th>\n",
       "      <td>2008/01/01 00:00:00+00</td>\n",
       "      <td>-38.460322</td>\n",
       "      <td>144.971905</td>\n",
       "      <td>NaN</td>\n",
       "      <td>Crinia signifera</td>\n",
       "      <td>Eastern Common Froglet</td>\n",
       "      <td>query</td>\n",
       "      <td>1</td>\n",
       "      <td>Unknown or query</td>\n",
       "      <td>2008-01-01 00:00:00+00:00</td>\n",
       "    </tr>\n",
       "    <tr>\n",
       "      <th>18720</th>\n",
       "      <td>2008/01/01 00:00:00+00</td>\n",
       "      <td>-38.460322</td>\n",
       "      <td>144.971916</td>\n",
       "      <td>NaN</td>\n",
       "      <td>Litoria ewingii</td>\n",
       "      <td>Southern Brown Tree Frog</td>\n",
       "      <td>query</td>\n",
       "      <td>1</td>\n",
       "      <td>Unknown or query</td>\n",
       "      <td>2008-01-01 00:00:00+00:00</td>\n",
       "    </tr>\n",
       "  </tbody>\n",
       "</table>\n",
       "</div>"
      ],
      "text/plain": [
       "                         Date   Latitude   Longitude ObservationType  \\\n",
       "18716  2008/01/01 00:00:00+00 -38.470445  144.978922             NaN   \n",
       "18717  2008/01/01 00:00:00+00 -38.470435  144.978831             NaN   \n",
       "18718  2008/01/01 00:00:00+00 -38.470399  144.978844             NaN   \n",
       "18719  2008/01/01 00:00:00+00 -38.460322  144.971905             NaN   \n",
       "18720  2008/01/01 00:00:00+00 -38.460322  144.971916             NaN   \n",
       "\n",
       "                      ScientificName                CommonName FrogCount  \\\n",
       "18716                Litoria ewingii  Southern Brown Tree Frog     query   \n",
       "18717               Crinia signifera    Eastern Common Froglet     query   \n",
       "18718  Litoria verreauxii verreauxii       Whistling Tree Frog     query   \n",
       "18719               Crinia signifera    Eastern Common Froglet     query   \n",
       "18720                Litoria ewingii  Southern Brown Tree Frog     query   \n",
       "\n",
       "       Population          Comments               Date_parsed  \n",
       "18716           1  Unknown or query 2008-01-01 00:00:00+00:00  \n",
       "18717           1  Unknown or query 2008-01-01 00:00:00+00:00  \n",
       "18718           1  Unknown or query 2008-01-01 00:00:00+00:00  \n",
       "18719           1  Unknown or query 2008-01-01 00:00:00+00:00  \n",
       "18720           1  Unknown or query 2008-01-01 00:00:00+00:00  "
      ]
     },
     "execution_count": 36,
     "metadata": {},
     "output_type": "execute_result"
    }
   ],
   "source": [
    "ten_year_df[ten_year_df['Date_parsed'].dt.year >= 2008].head()"
   ]
  },
  {
   "cell_type": "markdown",
   "id": "6d165a4e",
   "metadata": {},
   "source": [
    "# - PLOT_LOCATION3 (10 year data)"
   ]
  },
  {
   "cell_type": "code",
   "execution_count": 37,
   "id": "010367f7",
   "metadata": {},
   "outputs": [
    {
     "data": {
      "text/plain": [
       "<Axes: xlabel='Latitude', ylabel='Longitude'>"
      ]
     },
     "execution_count": 37,
     "metadata": {},
     "output_type": "execute_result"
    },
    {
     "data": {
      "image/png": "[encoded data removed]",
      "text/plain": [
       "<Figure size 640x480 with 1 Axes>"
      ]
     },
     "metadata": {},
     "output_type": "display_data"
    }
   ],
   "source": [
    "ten_year_df[['Latitude', 'Longitude']].plot(kind='scatter', x= 'Latitude', y = 'Longitude')\n",
    "# make a scatter plot of the original data to see if we can see the outline of melb"
   ]
  },
  {
   "cell_type": "code",
   "execution_count": 38,
   "id": "78f35601",
   "metadata": {
    "scrolled": true
   },
   "outputs": [
    {
     "data": {
      "text/html": [
       "<div>\n",
       "<style scoped>\n",
       "    .dataframe tbody tr th:only-of-type {\n",
       "        vertical-align: middle;\n",
       "    }\n",
       "\n",
       "    .dataframe tbody tr th {\n",
       "        vertical-align: top;\n",
       "    }\n",
       "\n",
       "    .dataframe thead th {\n",
       "        text-align: right;\n",
       "    }\n",
       "</style>\n",
       "<table border=\"1\" class=\"dataframe\">\n",
       "  <thead>\n",
       "    <tr style=\"text-align: right;\">\n",
       "      <th></th>\n",
       "      <th>Date</th>\n",
       "      <th>Latitude</th>\n",
       "      <th>Longitude</th>\n",
       "      <th>ObservationType</th>\n",
       "      <th>ScientificName</th>\n",
       "      <th>CommonName</th>\n",
       "      <th>FrogCount</th>\n",
       "      <th>Population</th>\n",
       "      <th>Comments</th>\n",
       "      <th>Date_parsed</th>\n",
       "      <th>Year</th>\n",
       "    </tr>\n",
       "  </thead>\n",
       "  <tbody>\n",
       "    <tr>\n",
       "      <th>18716</th>\n",
       "      <td>2008-01-01 00:00:00+00:00</td>\n",
       "      <td>-38.470445</td>\n",
       "      <td>144.978922</td>\n",
       "      <td>NaN</td>\n",
       "      <td>Litoria ewingii</td>\n",
       "      <td>Southern Brown Tree Frog</td>\n",
       "      <td>query</td>\n",
       "      <td>1</td>\n",
       "      <td>Unknown or query</td>\n",
       "      <td>2008-01-01 00:00:00+00:00</td>\n",
       "      <td>2008</td>\n",
       "    </tr>\n",
       "    <tr>\n",
       "      <th>18717</th>\n",
       "      <td>2008-01-01 00:00:00+00:00</td>\n",
       "      <td>-38.470435</td>\n",
       "      <td>144.978831</td>\n",
       "      <td>NaN</td>\n",
       "      <td>Crinia signifera</td>\n",
       "      <td>Eastern Common Froglet</td>\n",
       "      <td>query</td>\n",
       "      <td>1</td>\n",
       "      <td>Unknown or query</td>\n",
       "      <td>2008-01-01 00:00:00+00:00</td>\n",
       "      <td>2008</td>\n",
       "    </tr>\n",
       "    <tr>\n",
       "      <th>18718</th>\n",
       "      <td>2008-01-01 00:00:00+00:00</td>\n",
       "      <td>-38.470399</td>\n",
       "      <td>144.978844</td>\n",
       "      <td>NaN</td>\n",
       "      <td>Litoria verreauxii verreauxii</td>\n",
       "      <td>Whistling Tree Frog</td>\n",
       "      <td>query</td>\n",
       "      <td>1</td>\n",
       "      <td>Unknown or query</td>\n",
       "      <td>2008-01-01 00:00:00+00:00</td>\n",
       "      <td>2008</td>\n",
       "    </tr>\n",
       "    <tr>\n",
       "      <th>18719</th>\n",
       "      <td>2008-01-01 00:00:00+00:00</td>\n",
       "      <td>-38.460322</td>\n",
       "      <td>144.971905</td>\n",
       "      <td>NaN</td>\n",
       "      <td>Crinia signifera</td>\n",
       "      <td>Eastern Common Froglet</td>\n",
       "      <td>query</td>\n",
       "      <td>1</td>\n",
       "      <td>Unknown or query</td>\n",
       "      <td>2008-01-01 00:00:00+00:00</td>\n",
       "      <td>2008</td>\n",
       "    </tr>\n",
       "    <tr>\n",
       "      <th>18720</th>\n",
       "      <td>2008-01-01 00:00:00+00:00</td>\n",
       "      <td>-38.460322</td>\n",
       "      <td>144.971916</td>\n",
       "      <td>NaN</td>\n",
       "      <td>Litoria ewingii</td>\n",
       "      <td>Southern Brown Tree Frog</td>\n",
       "      <td>query</td>\n",
       "      <td>1</td>\n",
       "      <td>Unknown or query</td>\n",
       "      <td>2008-01-01 00:00:00+00:00</td>\n",
       "      <td>2008</td>\n",
       "    </tr>\n",
       "    <tr>\n",
       "      <th>18721</th>\n",
       "      <td>2008-01-01 00:00:00+00:00</td>\n",
       "      <td>-38.460322</td>\n",
       "      <td>144.971916</td>\n",
       "      <td>NaN</td>\n",
       "      <td>Litoria verreauxii verreauxii</td>\n",
       "      <td>Whistling Tree Frog</td>\n",
       "      <td>query</td>\n",
       "      <td>1</td>\n",
       "      <td>Unknown or query</td>\n",
       "      <td>2008-01-01 00:00:00+00:00</td>\n",
       "      <td>2008</td>\n",
       "    </tr>\n",
       "    <tr>\n",
       "      <th>18722</th>\n",
       "      <td>2008-01-01 00:00:00+00:00</td>\n",
       "      <td>-38.444934</td>\n",
       "      <td>144.961714</td>\n",
       "      <td>NaN</td>\n",
       "      <td>Litoria verreauxii verreauxii</td>\n",
       "      <td>Whistling Tree Frog</td>\n",
       "      <td>query</td>\n",
       "      <td>1</td>\n",
       "      <td>Unknown or query</td>\n",
       "      <td>2008-01-01 00:00:00+00:00</td>\n",
       "      <td>2008</td>\n",
       "    </tr>\n",
       "    <tr>\n",
       "      <th>18723</th>\n",
       "      <td>2008-01-01 00:00:00+00:00</td>\n",
       "      <td>-38.444925</td>\n",
       "      <td>144.961703</td>\n",
       "      <td>NaN</td>\n",
       "      <td>Crinia signifera</td>\n",
       "      <td>Eastern Common Froglet</td>\n",
       "      <td>query</td>\n",
       "      <td>1</td>\n",
       "      <td>Unknown or query</td>\n",
       "      <td>2008-01-01 00:00:00+00:00</td>\n",
       "      <td>2008</td>\n",
       "    </tr>\n",
       "    <tr>\n",
       "      <th>18724</th>\n",
       "      <td>2008-01-01 00:00:00+00:00</td>\n",
       "      <td>-38.444925</td>\n",
       "      <td>144.961715</td>\n",
       "      <td>NaN</td>\n",
       "      <td>Litoria ewingii</td>\n",
       "      <td>Southern Brown Tree Frog</td>\n",
       "      <td>query</td>\n",
       "      <td>1</td>\n",
       "      <td>Unknown or query</td>\n",
       "      <td>2008-01-01 00:00:00+00:00</td>\n",
       "      <td>2008</td>\n",
       "    </tr>\n",
       "    <tr>\n",
       "      <th>18725</th>\n",
       "      <td>2008-01-01 00:00:00+00:00</td>\n",
       "      <td>-38.457902</td>\n",
       "      <td>144.954508</td>\n",
       "      <td>NaN</td>\n",
       "      <td>Litoria ewingii</td>\n",
       "      <td>Southern Brown Tree Frog</td>\n",
       "      <td>query</td>\n",
       "      <td>1</td>\n",
       "      <td>Unknown or query</td>\n",
       "      <td>2008-01-01 00:00:00+00:00</td>\n",
       "      <td>2008</td>\n",
       "    </tr>\n",
       "    <tr>\n",
       "      <th>18726</th>\n",
       "      <td>2008-01-01 00:00:00+00:00</td>\n",
       "      <td>-38.457902</td>\n",
       "      <td>144.954508</td>\n",
       "      <td>NaN</td>\n",
       "      <td>Litoria verreauxii verreauxii</td>\n",
       "      <td>Whistling Tree Frog</td>\n",
       "      <td>query</td>\n",
       "      <td>1</td>\n",
       "      <td>Unknown or query</td>\n",
       "      <td>2008-01-01 00:00:00+00:00</td>\n",
       "      <td>2008</td>\n",
       "    </tr>\n",
       "    <tr>\n",
       "      <th>18727</th>\n",
       "      <td>2008-01-01 00:00:00+00:00</td>\n",
       "      <td>-38.445307</td>\n",
       "      <td>144.921372</td>\n",
       "      <td>NaN</td>\n",
       "      <td>Limnodynastes dumerilii</td>\n",
       "      <td>Eastern Banjo Frog</td>\n",
       "      <td>6</td>\n",
       "      <td>6</td>\n",
       "      <td>NaN</td>\n",
       "      <td>2008-01-01 00:00:00+00:00</td>\n",
       "      <td>2008</td>\n",
       "    </tr>\n",
       "    <tr>\n",
       "      <th>18728</th>\n",
       "      <td>2008-01-01 00:00:00+00:00</td>\n",
       "      <td>-38.445244</td>\n",
       "      <td>144.921386</td>\n",
       "      <td>NaN</td>\n",
       "      <td>Crinia signifera</td>\n",
       "      <td>Eastern Common Froglet</td>\n",
       "      <td>query</td>\n",
       "      <td>1</td>\n",
       "      <td>Unknown or query</td>\n",
       "      <td>2008-01-01 00:00:00+00:00</td>\n",
       "      <td>2008</td>\n",
       "    </tr>\n",
       "    <tr>\n",
       "      <th>18729</th>\n",
       "      <td>2008-01-01 00:00:00+00:00</td>\n",
       "      <td>-38.445189</td>\n",
       "      <td>144.921330</td>\n",
       "      <td>NaN</td>\n",
       "      <td>Litoria verreauxii verreauxii</td>\n",
       "      <td>Whistling Tree Frog</td>\n",
       "      <td>query</td>\n",
       "      <td>1</td>\n",
       "      <td>Unknown or query</td>\n",
       "      <td>2008-01-01 00:00:00+00:00</td>\n",
       "      <td>2008</td>\n",
       "    </tr>\n",
       "    <tr>\n",
       "      <th>18730</th>\n",
       "      <td>2008-01-01 00:00:00+00:00</td>\n",
       "      <td>-38.445152</td>\n",
       "      <td>144.921285</td>\n",
       "      <td>NaN</td>\n",
       "      <td>Litoria ewingii</td>\n",
       "      <td>Southern Brown Tree Frog</td>\n",
       "      <td>query</td>\n",
       "      <td>1</td>\n",
       "      <td>Unknown or query</td>\n",
       "      <td>2008-01-01 00:00:00+00:00</td>\n",
       "      <td>2008</td>\n",
       "    </tr>\n",
       "    <tr>\n",
       "      <th>18731</th>\n",
       "      <td>2008-01-01 00:00:00+00:00</td>\n",
       "      <td>-38.432655</td>\n",
       "      <td>144.920819</td>\n",
       "      <td>NaN</td>\n",
       "      <td>Crinia signifera</td>\n",
       "      <td>Eastern Common Froglet</td>\n",
       "      <td>query</td>\n",
       "      <td>1</td>\n",
       "      <td>Unknown or query</td>\n",
       "      <td>2008-01-01 00:00:00+00:00</td>\n",
       "      <td>2008</td>\n",
       "    </tr>\n",
       "    <tr>\n",
       "      <th>18732</th>\n",
       "      <td>2008-01-01 00:00:00+00:00</td>\n",
       "      <td>-38.432655</td>\n",
       "      <td>144.920819</td>\n",
       "      <td>NaN</td>\n",
       "      <td>Limnodynastes dumerilii</td>\n",
       "      <td>Eastern Banjo Frog</td>\n",
       "      <td>3</td>\n",
       "      <td>3</td>\n",
       "      <td>NaN</td>\n",
       "      <td>2008-01-01 00:00:00+00:00</td>\n",
       "      <td>2008</td>\n",
       "    </tr>\n",
       "    <tr>\n",
       "      <th>18733</th>\n",
       "      <td>2008-01-01 00:00:00+00:00</td>\n",
       "      <td>-38.432645</td>\n",
       "      <td>144.920808</td>\n",
       "      <td>NaN</td>\n",
       "      <td>Litoria verreauxii verreauxii</td>\n",
       "      <td>Whistling Tree Frog</td>\n",
       "      <td>query</td>\n",
       "      <td>1</td>\n",
       "      <td>Unknown or query</td>\n",
       "      <td>2008-01-01 00:00:00+00:00</td>\n",
       "      <td>2008</td>\n",
       "    </tr>\n",
       "    <tr>\n",
       "      <th>18734</th>\n",
       "      <td>2008-01-01 00:00:00+00:00</td>\n",
       "      <td>-38.432645</td>\n",
       "      <td>144.920808</td>\n",
       "      <td>NaN</td>\n",
       "      <td>Litoria ewingii</td>\n",
       "      <td>Southern Brown Tree Frog</td>\n",
       "      <td>query</td>\n",
       "      <td>1</td>\n",
       "      <td>Unknown or query</td>\n",
       "      <td>2008-01-01 00:00:00+00:00</td>\n",
       "      <td>2008</td>\n",
       "    </tr>\n",
       "    <tr>\n",
       "      <th>18735</th>\n",
       "      <td>2008-01-01 00:00:00+00:00</td>\n",
       "      <td>-38.417121</td>\n",
       "      <td>144.944904</td>\n",
       "      <td>NaN</td>\n",
       "      <td>Crinia signifera</td>\n",
       "      <td>Eastern Common Froglet</td>\n",
       "      <td>query</td>\n",
       "      <td>1</td>\n",
       "      <td>Unknown or query</td>\n",
       "      <td>2008-01-01 00:00:00+00:00</td>\n",
       "      <td>2008</td>\n",
       "    </tr>\n",
       "  </tbody>\n",
       "</table>\n",
       "</div>"
      ],
      "text/plain": [
       "                           Date   Latitude   Longitude ObservationType  \\\n",
       "18716 2008-01-01 00:00:00+00:00 -38.470445  144.978922             NaN   \n",
       "18717 2008-01-01 00:00:00+00:00 -38.470435  144.978831             NaN   \n",
       "18718 2008-01-01 00:00:00+00:00 -38.470399  144.978844             NaN   \n",
       "18719 2008-01-01 00:00:00+00:00 -38.460322  144.971905             NaN   \n",
       "18720 2008-01-01 00:00:00+00:00 -38.460322  144.971916             NaN   \n",
       "18721 2008-01-01 00:00:00+00:00 -38.460322  144.971916             NaN   \n",
       "18722 2008-01-01 00:00:00+00:00 -38.444934  144.961714             NaN   \n",
       "18723 2008-01-01 00:00:00+00:00 -38.444925  144.961703             NaN   \n",
       "18724 2008-01-01 00:00:00+00:00 -38.444925  144.961715             NaN   \n",
       "18725 2008-01-01 00:00:00+00:00 -38.457902  144.954508             NaN   \n",
       "18726 2008-01-01 00:00:00+00:00 -38.457902  144.954508             NaN   \n",
       "18727 2008-01-01 00:00:00+00:00 -38.445307  144.921372             NaN   \n",
       "18728 2008-01-01 00:00:00+00:00 -38.445244  144.921386             NaN   \n",
       "18729 2008-01-01 00:00:00+00:00 -38.445189  144.921330             NaN   \n",
       "18730 2008-01-01 00:00:00+00:00 -38.445152  144.921285             NaN   \n",
       "18731 2008-01-01 00:00:00+00:00 -38.432655  144.920819             NaN   \n",
       "18732 2008-01-01 00:00:00+00:00 -38.432655  144.920819             NaN   \n",
       "18733 2008-01-01 00:00:00+00:00 -38.432645  144.920808             NaN   \n",
       "18734 2008-01-01 00:00:00+00:00 -38.432645  144.920808             NaN   \n",
       "18735 2008-01-01 00:00:00+00:00 -38.417121  144.944904             NaN   \n",
       "\n",
       "                      ScientificName                CommonName FrogCount  \\\n",
       "18716                Litoria ewingii  Southern Brown Tree Frog     query   \n",
       "18717               Crinia signifera    Eastern Common Froglet     query   \n",
       "18718  Litoria verreauxii verreauxii       Whistling Tree Frog     query   \n",
       "18719               Crinia signifera    Eastern Common Froglet     query   \n",
       "18720                Litoria ewingii  Southern Brown Tree Frog     query   \n",
       "18721  Litoria verreauxii verreauxii       Whistling Tree Frog     query   \n",
       "18722  Litoria verreauxii verreauxii       Whistling Tree Frog     query   \n",
       "18723               Crinia signifera    Eastern Common Froglet     query   \n",
       "18724                Litoria ewingii  Southern Brown Tree Frog     query   \n",
       "18725                Litoria ewingii  Southern Brown Tree Frog     query   \n",
       "18726  Litoria verreauxii verreauxii       Whistling Tree Frog     query   \n",
       "18727        Limnodynastes dumerilii        Eastern Banjo Frog         6   \n",
       "18728               Crinia signifera    Eastern Common Froglet     query   \n",
       "18729  Litoria verreauxii verreauxii       Whistling Tree Frog     query   \n",
       "18730                Litoria ewingii  Southern Brown Tree Frog     query   \n",
       "18731               Crinia signifera    Eastern Common Froglet     query   \n",
       "18732        Limnodynastes dumerilii        Eastern Banjo Frog         3   \n",
       "18733  Litoria verreauxii verreauxii       Whistling Tree Frog     query   \n",
       "18734                Litoria ewingii  Southern Brown Tree Frog     query   \n",
       "18735               Crinia signifera    Eastern Common Froglet     query   \n",
       "\n",
       "       Population          Comments               Date_parsed  Year  \n",
       "18716           1  Unknown or query 2008-01-01 00:00:00+00:00  2008  \n",
       "18717           1  Unknown or query 2008-01-01 00:00:00+00:00  2008  \n",
       "18718           1  Unknown or query 2008-01-01 00:00:00+00:00  2008  \n",
       "18719           1  Unknown or query 2008-01-01 00:00:00+00:00  2008  \n",
       "18720           1  Unknown or query 2008-01-01 00:00:00+00:00  2008  \n",
       "18721           1  Unknown or query 2008-01-01 00:00:00+00:00  2008  \n",
       "18722           1  Unknown or query 2008-01-01 00:00:00+00:00  2008  \n",
       "18723           1  Unknown or query 2008-01-01 00:00:00+00:00  2008  \n",
       "18724           1  Unknown or query 2008-01-01 00:00:00+00:00  2008  \n",
       "18725           1  Unknown or query 2008-01-01 00:00:00+00:00  2008  \n",
       "18726           1  Unknown or query 2008-01-01 00:00:00+00:00  2008  \n",
       "18727           6               NaN 2008-01-01 00:00:00+00:00  2008  \n",
       "18728           1  Unknown or query 2008-01-01 00:00:00+00:00  2008  \n",
       "18729           1  Unknown or query 2008-01-01 00:00:00+00:00  2008  \n",
       "18730           1  Unknown or query 2008-01-01 00:00:00+00:00  2008  \n",
       "18731           1  Unknown or query 2008-01-01 00:00:00+00:00  2008  \n",
       "18732           3               NaN 2008-01-01 00:00:00+00:00  2008  \n",
       "18733           1  Unknown or query 2008-01-01 00:00:00+00:00  2008  \n",
       "18734           1  Unknown or query 2008-01-01 00:00:00+00:00  2008  \n",
       "18735           1  Unknown or query 2008-01-01 00:00:00+00:00  2008  "
      ]
     },
     "execution_count": 38,
     "metadata": {},
     "output_type": "execute_result"
    }
   ],
   "source": [
    "\"\"\"\n",
    "This converts the Date column values to datetime and then saves the year to separate columns \n",
    "in the frog_prep_date dataframe. for the past ten years of data. using ten_year_df\n",
    "\"\"\"\n",
    "frog_prep_date = pd.DataFrame(ten_year_df).copy()\n",
    " \n",
    "frog_prep_date['Date'] = pd.to_datetime(frog_prep_date['Date'], errors='coerce', utc=True)\n",
    "\n",
    "frog_prep_date['Year'] = frog_prep_date['Date'].dt.year\n",
    "\n",
    "frog_prep_date.head(20)\n"
   ]
  },
  {
   "cell_type": "code",
   "execution_count": 39,
   "id": "496c5d89",
   "metadata": {},
   "outputs": [
    {
     "data": {
      "text/plain": [
       "<Axes: xlabel='Year', ylabel='Population'>"
      ]
     },
     "execution_count": 39,
     "metadata": {},
     "output_type": "execute_result"
    },
    {
     "data": {
      "image/png": "[encoded data removed]",
      "text/plain": [
       "<Figure size 640x480 with 1 Axes>"
      ]
     },
     "metadata": {},
     "output_type": "display_data"
    }
   ],
   "source": [
    "# Now plot that by the year.  so year vs Population\n",
    "\n",
    "# group by year\n",
    "\n",
    "yearly_data = frog_prep_date.groupby('Year')['Population'].sum().reset_index()\n",
    "\n",
    "# plot\n",
    "\n",
    "yearly_data.plot(kind='scatter', x = 'Year', y = 'Population')"
   ]
  },
  {
   "cell_type": "markdown",
   "id": "9baa2cf2",
   "metadata": {},
   "source": [
    "## PLOT 4. sum of population by year."
   ]
  },
  {
   "cell_type": "code",
   "execution_count": 40,
   "id": "696350d8",
   "metadata": {},
   "outputs": [
    {
     "data": {
      "text/plain": [
       "<Axes: xlabel='Year'>"
      ]
     },
     "execution_count": 40,
     "metadata": {},
     "output_type": "execute_result"
    },
    {
     "data": {
      "image/png": "[encoded data removed]",
      "text/plain": [
       "<Figure size 640x480 with 1 Axes>"
      ]
     },
     "metadata": {},
     "output_type": "display_data"
    }
   ],
   "source": [
    "yearly_data.plot(kind='bar', x = 'Year', y = 'Population')"
   ]
  },
  {
   "cell_type": "markdown",
   "id": "228a482c",
   "metadata": {},
   "source": [
    "## PLOT 5. heat map for 10 years of population by year."
   ]
  },
  {
   "cell_type": "code",
   "execution_count": 41,
   "id": "ce80e797",
   "metadata": {},
   "outputs": [
    {
     "data": {
      "text/plain": [
       "<Axes: xlabel='Latitude', ylabel='Longitude'>"
      ]
     },
     "execution_count": 41,
     "metadata": {},
     "output_type": "execute_result"
    },
    {
     "data": {
      "image/png": "[encoded data removed]",
      "text/plain": [
       "<Figure size 640x480 with 2 Axes>"
      ]
     },
     "metadata": {},
     "output_type": "display_data"
    }
   ],
   "source": [
    "frog_prep_date.plot.scatter(x= 'Latitude', y = 'Longitude', c= \"Year\", cmap='jet')"
   ]
  },
  {
   "cell_type": "markdown",
   "id": "ff4d963e",
   "metadata": {},
   "source": [
    "# Plots for 2 yearly data"
   ]
  },
  {
   "cell_type": "markdown",
   "id": "b8a81b1e",
   "metadata": {},
   "source": [
    "# Plots 6 - 10 (2 yearly data plots)"
   ]
  },
  {
   "cell_type": "code",
   "execution_count": 42,
   "id": "20362e20",
   "metadata": {},
   "outputs": [
    {
     "data": {
      "text/plain": [
       "<Axes: xlabel='Longitude', ylabel='Latitude'>"
      ]
     },
     "execution_count": 42,
     "metadata": {},
     "output_type": "execute_result"
    },
    {
     "data": {
      "image/png": "[encoded data removed]",
      "text/plain": [
       "<Figure size 640x480 with 1 Axes>"
      ]
     },
     "metadata": {},
     "output_type": "display_data"
    }
   ],
   "source": [
    "(frog_prep_date[frog_prep_date['Year'] >= 2008 & (frog_prep_date['Year'] <= 2010)]).plot(x='Longitude', y='Latitude', kind = 'scatter', label = \"2 year-2008-2010\")\n"
   ]
  },
  {
   "cell_type": "code",
   "execution_count": 43,
   "id": "8bb6992a",
   "metadata": {},
   "outputs": [
    {
     "data": {
      "text/plain": [
       "<Axes: xlabel='Longitude', ylabel='Latitude'>"
      ]
     },
     "execution_count": 43,
     "metadata": {},
     "output_type": "execute_result"
    },
    {
     "data": {
      "image/png": "[encoded data removed]",
      "text/plain": [
       "<Figure size 640x480 with 1 Axes>"
      ]
     },
     "metadata": {},
     "output_type": "display_data"
    }
   ],
   "source": [
    "(frog_prep_date[frog_prep_date['Year'] >= 2010 & (frog_prep_date['Year'] <= 2012)]).plot(x='Longitude', y='Latitude', kind = 'scatter', label = \"2 year-2010-2012\")\n"
   ]
  },
  {
   "cell_type": "code",
   "execution_count": 44,
   "id": "03ebc9c8",
   "metadata": {},
   "outputs": [
    {
     "data": {
      "text/plain": [
       "<Axes: xlabel='Longitude', ylabel='Latitude'>"
      ]
     },
     "execution_count": 44,
     "metadata": {},
     "output_type": "execute_result"
    },
    {
     "data": {
      "image/png": "[encoded data removed]",
      "text/plain": [
       "<Figure size 640x480 with 1 Axes>"
      ]
     },
     "metadata": {},
     "output_type": "display_data"
    }
   ],
   "source": [
    "(frog_prep_date[frog_prep_date['Year'] >= 2012 & (frog_prep_date['Year'] <= 2014)]).plot(x='Longitude', y='Latitude', kind = 'scatter', label = \"2 year-2012-2014\")\n"
   ]
  },
  {
   "cell_type": "code",
   "execution_count": 45,
   "id": "f04be862",
   "metadata": {},
   "outputs": [
    {
     "data": {
      "text/plain": [
       "<Axes: xlabel='Longitude', ylabel='Latitude'>"
      ]
     },
     "execution_count": 45,
     "metadata": {},
     "output_type": "execute_result"
    },
    {
     "data": {
      "image/png": "[encoded data removed]",
      "text/plain": [
       "<Figure size 640x480 with 1 Axes>"
      ]
     },
     "metadata": {},
     "output_type": "display_data"
    }
   ],
   "source": [
    "(frog_prep_date[frog_prep_date['Year'] >= 2014 & (frog_prep_date['Year'] <= 2016)]).plot(x='Longitude', y='Latitude', kind = 'scatter', label = \"2 year-2014-2016\")\n"
   ]
  },
  {
   "cell_type": "code",
   "execution_count": 46,
   "id": "e42b1b95",
   "metadata": {},
   "outputs": [
    {
     "data": {
      "text/plain": [
       "<Axes: xlabel='Longitude', ylabel='Latitude'>"
      ]
     },
     "execution_count": 46,
     "metadata": {},
     "output_type": "execute_result"
    },
    {
     "data": {
      "image/png": "[encoded data removed]",
      "text/plain": [
       "<Figure size 640x480 with 1 Axes>"
      ]
     },
     "metadata": {},
     "output_type": "display_data"
    }
   ],
   "source": [
    "(frog_prep_date[frog_prep_date['Year'] >= 2016 & (frog_prep_date['Year'] <= 2018)]).plot(x='Longitude', y='Latitude', kind = 'scatter', label = \"2 year-2016-2018\")\n"
   ]
  },
  {
   "cell_type": "markdown",
   "id": "41fba395",
   "metadata": {},
   "source": [
    "This does not show representation of major changes in the population."
   ]
  },
  {
   "cell_type": "markdown",
   "id": "1cde5f87",
   "metadata": {},
   "source": [
    "# TOP 5 populations from the past 10years"
   ]
  },
  {
   "cell_type": "markdown",
   "id": "8b4172f7",
   "metadata": {},
   "source": [
    "if we look at the top 5 populations for the past 10 years:"
   ]
  },
  {
   "cell_type": "code",
   "execution_count": 47,
   "id": "e9fef2a2",
   "metadata": {},
   "outputs": [],
   "source": [
    "# sorty by Population\n",
    "top_10 = ten_year_df.sort_values(by='Population', ascending = True)\n",
    "top_15pop_10year = top_10.head(15)"
   ]
  },
  {
   "cell_type": "code",
   "execution_count": 48,
   "id": "86256e46",
   "metadata": {},
   "outputs": [],
   "source": [
    "#save largest 15 pops in the past 10 years\n",
    "top_15pop_10year.to_csv('top_15.csv', index=False) "
   ]
  },
  {
   "cell_type": "code",
   "execution_count": 49,
   "id": "7d021206",
   "metadata": {},
   "outputs": [],
   "source": [
    "# save this to last_10years_clean_df\n",
    "frog_prep_date.to_csv('10_yeardata.csv', index=False) "
   ]
  },
  {
   "cell_type": "markdown",
   "id": "49600486",
   "metadata": {},
   "source": [
    "below we find the top ten values as sorted by Populationadjustednumber.  So this population is 100km view FIG 5 from GEOPANDAS_section.ipynb. from the melbourne CBD, and located in a wetlands, in Wheelers Hill. therefore we are going to look at sorting by distance from Frogs ar us.then take those popluations that are within 30km, and have 5 or more frogs."
   ]
  },
  {
   "cell_type": "code",
   "execution_count": 50,
   "id": "593df12f",
   "metadata": {},
   "outputs": [
    {
     "data": {
      "text/plain": [
       "<Axes: xlabel='Latitude', ylabel='Longitude'>"
      ]
     },
     "execution_count": 50,
     "metadata": {},
     "output_type": "execute_result"
    },
    {
     "data": {
      "image/png": "[encoded data removed]",
      "text/plain": [
       "<Figure size 640x480 with 1 Axes>"
      ]
     },
     "metadata": {},
     "output_type": "display_data"
    }
   ],
   "source": [
    "top_15pop_10year.plot.scatter(x= 'Latitude', y = 'Longitude')"
   ]
  },
  {
   "cell_type": "markdown",
   "id": "88c7ebe8",
   "metadata": {},
   "source": [
    "looking for locations within 30 km of the cbd and near frogsrus. as there are large populations 100. km from melbourne"
   ]
  },
  {
   "cell_type": "markdown",
   "id": "dabaa616",
   "metadata": {},
   "source": [
    "# Using the haversine as per workbook 13 from class."
   ]
  },
  {
   "cell_type": "code",
   "execution_count": 51,
   "id": "bc411550",
   "metadata": {},
   "outputs": [
    {
     "name": "stdout",
     "output_type": "stream",
     "text": [
      "                           Date   Latitude   Longitude ObservationType  \\\n",
      "18716 2008-01-01 00:00:00+00:00 -38.470445  144.978922             NaN   \n",
      "18717 2008-01-01 00:00:00+00:00 -38.470435  144.978831             NaN   \n",
      "18718 2008-01-01 00:00:00+00:00 -38.470399  144.978844             NaN   \n",
      "18719 2008-01-01 00:00:00+00:00 -38.460322  144.971905             NaN   \n",
      "18720 2008-01-01 00:00:00+00:00 -38.460322  144.971916             NaN   \n",
      "\n",
      "                      ScientificName                CommonName FrogCount  \\\n",
      "18716                Litoria ewingii  Southern Brown Tree Frog     query   \n",
      "18717               Crinia signifera    Eastern Common Froglet     query   \n",
      "18718  Litoria verreauxii verreauxii       Whistling Tree Frog     query   \n",
      "18719               Crinia signifera    Eastern Common Froglet     query   \n",
      "18720                Litoria ewingii  Southern Brown Tree Frog     query   \n",
      "\n",
      "       Population          Comments               Date_parsed  Year  \\\n",
      "18716           1  Unknown or query 2008-01-01 00:00:00+00:00  2008   \n",
      "18717           1  Unknown or query 2008-01-01 00:00:00+00:00  2008   \n",
      "18718           1  Unknown or query 2008-01-01 00:00:00+00:00  2008   \n",
      "18719           1  Unknown or query 2008-01-01 00:00:00+00:00  2008   \n",
      "18720           1  Unknown or query 2008-01-01 00:00:00+00:00  2008   \n",
      "\n",
      "       distance_FrogsRus  \n",
      "18716          65.080619  \n",
      "18717          65.080143  \n",
      "18718          65.076062  \n",
      "18719          64.011137  \n",
      "18720          64.011050  \n",
      "                           Date   Latitude   Longitude ObservationType  \\\n",
      "18716 2008-01-01 00:00:00+00:00 -38.470445  144.978922             NaN   \n",
      "18717 2008-01-01 00:00:00+00:00 -38.470435  144.978831             NaN   \n",
      "18718 2008-01-01 00:00:00+00:00 -38.470399  144.978844             NaN   \n",
      "18719 2008-01-01 00:00:00+00:00 -38.460322  144.971905             NaN   \n",
      "18720 2008-01-01 00:00:00+00:00 -38.460322  144.971916             NaN   \n",
      "\n",
      "                      ScientificName                CommonName FrogCount  \\\n",
      "18716                Litoria ewingii  Southern Brown Tree Frog     query   \n",
      "18717               Crinia signifera    Eastern Common Froglet     query   \n",
      "18718  Litoria verreauxii verreauxii       Whistling Tree Frog     query   \n",
      "18719               Crinia signifera    Eastern Common Froglet     query   \n",
      "18720                Litoria ewingii  Southern Brown Tree Frog     query   \n",
      "\n",
      "       Population          Comments               Date_parsed  Year  \\\n",
      "18716           1  Unknown or query 2008-01-01 00:00:00+00:00  2008   \n",
      "18717           1  Unknown or query 2008-01-01 00:00:00+00:00  2008   \n",
      "18718           1  Unknown or query 2008-01-01 00:00:00+00:00  2008   \n",
      "18719           1  Unknown or query 2008-01-01 00:00:00+00:00  2008   \n",
      "18720           1  Unknown or query 2008-01-01 00:00:00+00:00  2008   \n",
      "\n",
      "       distance_FrogsRus  \n",
      "18716          65.080619  \n",
      "18717          65.080143  \n",
      "18718          65.076062  \n",
      "18719          64.011137  \n",
      "18720          64.011050  \n"
     ]
    }
   ],
   "source": [
    "from math import radians, cos, sin, asin, sqrt\n",
    "\n",
    "fru_lat = -37.88701\n",
    "fru_lon = 145.03806\n",
    "# haversine(144.947143,-37.88701,mbs_lon,mbs_lat)\n",
    "\n",
    "def haversine_row(row, lon2, lat2):\n",
    "    \"\"\"\n",
    "    Calculate the great circle distance in kilometers between two points\n",
    "    on the Earth (specified in decimal degrees).\n",
    "    \"\"\"\n",
    "    # Convert decimal degrees to radians\n",
    "    lon1, lat1, lon2, lat2 = map(radians, [row['Longitude'], row['Latitude'], lon2, lat2])\n",
    "\n",
    "    # Compute differences in longitude and latitude\n",
    "    dlon = lon2 - lon1\n",
    "    dlat = lat2 - lat1\n",
    "\n",
    "    # Haversine formula\n",
    "    a = sin(dlat/2)**2 + cos(lat1) * cos(lat2) * sin(dlon/2)**2\n",
    "    c = 2 * asin(sqrt(a))\n",
    "    radius = 6371  # Earth's radius in kilometers\n",
    "\n",
    "    # Calculate the distance\n",
    "    distance = radius * c\n",
    "    return distance\n",
    "\n",
    "# take the data sorted by date\n",
    "frog_prep_date['distance_FrogsRus'] = frog_prep_date.apply(haversine_row,args=(fru_lon,fru_lat),axis=1)\n",
    "\n",
    "haversort_10years_df = frog_prep_date.head()\n",
    "print(frog_prep_date.head())\n",
    "print(haversort_10years_df.head())\n"
   ]
  },
  {
   "cell_type": "markdown",
   "id": "3f92a3da",
   "metadata": {},
   "source": [
    "# TABLE 1. DISTANCE to FrogsRUS - population >5 and within 30km."
   ]
  },
  {
   "cell_type": "code",
   "execution_count": 52,
   "id": "503cb805",
   "metadata": {},
   "outputs": [
    {
     "data": {
      "text/html": [
       "<div>\n",
       "<style scoped>\n",
       "    .dataframe tbody tr th:only-of-type {\n",
       "        vertical-align: middle;\n",
       "    }\n",
       "\n",
       "    .dataframe tbody tr th {\n",
       "        vertical-align: top;\n",
       "    }\n",
       "\n",
       "    .dataframe thead th {\n",
       "        text-align: right;\n",
       "    }\n",
       "</style>\n",
       "<table border=\"1\" class=\"dataframe\">\n",
       "  <thead>\n",
       "    <tr style=\"text-align: right;\">\n",
       "      <th></th>\n",
       "      <th>Date</th>\n",
       "      <th>Latitude</th>\n",
       "      <th>Longitude</th>\n",
       "      <th>ObservationType</th>\n",
       "      <th>ScientificName</th>\n",
       "      <th>CommonName</th>\n",
       "      <th>FrogCount</th>\n",
       "      <th>Population</th>\n",
       "      <th>Comments</th>\n",
       "      <th>Date_parsed</th>\n",
       "      <th>Year</th>\n",
       "      <th>distance_FrogsRus</th>\n",
       "    </tr>\n",
       "  </thead>\n",
       "  <tbody>\n",
       "    <tr>\n",
       "      <th>26776</th>\n",
       "      <td>2016-10-06 00:00:00+00:00</td>\n",
       "      <td>-37.901823</td>\n",
       "      <td>145.060340</td>\n",
       "      <td>Opportunistic recordi</td>\n",
       "      <td>Litoria ewingii</td>\n",
       "      <td>Southern Brown Tree Frog</td>\n",
       "      <td>5 to 10</td>\n",
       "      <td>7</td>\n",
       "      <td>A range of values was given. Number is the ave...</td>\n",
       "      <td>2016-10-06 00:00:00+00:00</td>\n",
       "      <td>2016</td>\n",
       "      <td>2.556410</td>\n",
       "    </tr>\n",
       "    <tr>\n",
       "      <th>26777</th>\n",
       "      <td>2016-10-06 00:00:00+00:00</td>\n",
       "      <td>-37.901823</td>\n",
       "      <td>145.060340</td>\n",
       "      <td>Opportunistic recordi</td>\n",
       "      <td>Limnodynastes dumerilii</td>\n",
       "      <td>Eastern Banjo Frog</td>\n",
       "      <td>5 to 10</td>\n",
       "      <td>7</td>\n",
       "      <td>A range of values was given. Number is the ave...</td>\n",
       "      <td>2016-10-06 00:00:00+00:00</td>\n",
       "      <td>2016</td>\n",
       "      <td>2.556410</td>\n",
       "    </tr>\n",
       "    <tr>\n",
       "      <th>27039</th>\n",
       "      <td>2016-10-19 00:00:00+00:00</td>\n",
       "      <td>-37.869106</td>\n",
       "      <td>145.056870</td>\n",
       "      <td>Opportunistic recordi</td>\n",
       "      <td>Litoria ewingii</td>\n",
       "      <td>Southern Brown Tree Frog</td>\n",
       "      <td>More than 10</td>\n",
       "      <td>10</td>\n",
       "      <td>found more than recorded number of frogs</td>\n",
       "      <td>2016-10-19 00:00:00+00:00</td>\n",
       "      <td>2016</td>\n",
       "      <td>2.586303</td>\n",
       "    </tr>\n",
       "    <tr>\n",
       "      <th>27038</th>\n",
       "      <td>2016-10-19 00:00:00+00:00</td>\n",
       "      <td>-37.869106</td>\n",
       "      <td>145.056870</td>\n",
       "      <td>Opportunistic recordi</td>\n",
       "      <td>Litoria verreauxii verreauxii</td>\n",
       "      <td>Whistling Tree Frog</td>\n",
       "      <td>More than 10</td>\n",
       "      <td>10</td>\n",
       "      <td>found more than recorded number of frogs</td>\n",
       "      <td>2016-10-19 00:00:00+00:00</td>\n",
       "      <td>2016</td>\n",
       "      <td>2.586303</td>\n",
       "    </tr>\n",
       "    <tr>\n",
       "      <th>26668</th>\n",
       "      <td>2016-09-27 00:00:00+00:00</td>\n",
       "      <td>-37.862738</td>\n",
       "      <td>145.061143</td>\n",
       "      <td>Opportunistic recordi</td>\n",
       "      <td>Litoria ewingii</td>\n",
       "      <td>Southern Brown Tree Frog</td>\n",
       "      <td>5 to 10</td>\n",
       "      <td>7</td>\n",
       "      <td>A range of values was given. Number is the ave...</td>\n",
       "      <td>2016-09-27 00:00:00+00:00</td>\n",
       "      <td>2016</td>\n",
       "      <td>3.374765</td>\n",
       "    </tr>\n",
       "    <tr>\n",
       "      <th>...</th>\n",
       "      <td>...</td>\n",
       "      <td>...</td>\n",
       "      <td>...</td>\n",
       "      <td>...</td>\n",
       "      <td>...</td>\n",
       "      <td>...</td>\n",
       "      <td>...</td>\n",
       "      <td>...</td>\n",
       "      <td>...</td>\n",
       "      <td>...</td>\n",
       "      <td>...</td>\n",
       "      <td>...</td>\n",
       "    </tr>\n",
       "    <tr>\n",
       "      <th>23477</th>\n",
       "      <td>2012-11-06 00:00:00+00:00</td>\n",
       "      <td>-37.623664</td>\n",
       "      <td>145.106245</td>\n",
       "      <td>NaN</td>\n",
       "      <td>Limnodynastes dumerilii</td>\n",
       "      <td>Eastern Banjo Frog</td>\n",
       "      <td>10+</td>\n",
       "      <td>10</td>\n",
       "      <td>Number of frogs is more than that recorded</td>\n",
       "      <td>2012-11-06 00:00:00+00:00</td>\n",
       "      <td>2012</td>\n",
       "      <td>29.889997</td>\n",
       "    </tr>\n",
       "    <tr>\n",
       "      <th>22588</th>\n",
       "      <td>2011-09-21 00:00:00+00:00</td>\n",
       "      <td>-37.623664</td>\n",
       "      <td>145.106245</td>\n",
       "      <td>NaN</td>\n",
       "      <td>Limnodynastes tasmaniensis</td>\n",
       "      <td>Spotted Marsh Frog</td>\n",
       "      <td>20+</td>\n",
       "      <td>20</td>\n",
       "      <td>Number of frogs is more than that recorded</td>\n",
       "      <td>2011-09-21 00:00:00+00:00</td>\n",
       "      <td>2011</td>\n",
       "      <td>29.889997</td>\n",
       "    </tr>\n",
       "    <tr>\n",
       "      <th>23090</th>\n",
       "      <td>2012-03-07 00:00:00+00:00</td>\n",
       "      <td>-37.623664</td>\n",
       "      <td>145.106245</td>\n",
       "      <td>NaN</td>\n",
       "      <td>Limnodynastes tasmaniensis</td>\n",
       "      <td>Spotted Marsh Frog</td>\n",
       "      <td>30+</td>\n",
       "      <td>30</td>\n",
       "      <td>Number of frogs is more than that recorded</td>\n",
       "      <td>2012-03-07 00:00:00+00:00</td>\n",
       "      <td>2012</td>\n",
       "      <td>29.889997</td>\n",
       "    </tr>\n",
       "    <tr>\n",
       "      <th>23473</th>\n",
       "      <td>2012-11-06 00:00:00+00:00</td>\n",
       "      <td>-37.623664</td>\n",
       "      <td>145.106245</td>\n",
       "      <td>NaN</td>\n",
       "      <td>Limnodynastes tasmaniensis</td>\n",
       "      <td>Spotted Marsh Frog</td>\n",
       "      <td>20+</td>\n",
       "      <td>20</td>\n",
       "      <td>Number of frogs is more than that recorded</td>\n",
       "      <td>2012-11-06 00:00:00+00:00</td>\n",
       "      <td>2012</td>\n",
       "      <td>29.889997</td>\n",
       "    </tr>\n",
       "    <tr>\n",
       "      <th>22496</th>\n",
       "      <td>2011-07-21 00:00:00+00:00</td>\n",
       "      <td>-37.674722</td>\n",
       "      <td>145.247795</td>\n",
       "      <td>NaN</td>\n",
       "      <td>Crinia signifera</td>\n",
       "      <td>Eastern Common Froglet</td>\n",
       "      <td>20+</td>\n",
       "      <td>20</td>\n",
       "      <td>Number of frogs is more than that recorded</td>\n",
       "      <td>2011-07-21 00:00:00+00:00</td>\n",
       "      <td>2011</td>\n",
       "      <td>29.949335</td>\n",
       "    </tr>\n",
       "  </tbody>\n",
       "</table>\n",
       "<p>1944 rows × 12 columns</p>\n",
       "</div>"
      ],
      "text/plain": [
       "                           Date   Latitude   Longitude        ObservationType  \\\n",
       "26776 2016-10-06 00:00:00+00:00 -37.901823  145.060340  Opportunistic recordi   \n",
       "26777 2016-10-06 00:00:00+00:00 -37.901823  145.060340  Opportunistic recordi   \n",
       "27039 2016-10-19 00:00:00+00:00 -37.869106  145.056870  Opportunistic recordi   \n",
       "27038 2016-10-19 00:00:00+00:00 -37.869106  145.056870  Opportunistic recordi   \n",
       "26668 2016-09-27 00:00:00+00:00 -37.862738  145.061143  Opportunistic recordi   \n",
       "...                         ...        ...         ...                    ...   \n",
       "23477 2012-11-06 00:00:00+00:00 -37.623664  145.106245                    NaN   \n",
       "22588 2011-09-21 00:00:00+00:00 -37.623664  145.106245                    NaN   \n",
       "23090 2012-03-07 00:00:00+00:00 -37.623664  145.106245                    NaN   \n",
       "23473 2012-11-06 00:00:00+00:00 -37.623664  145.106245                    NaN   \n",
       "22496 2011-07-21 00:00:00+00:00 -37.674722  145.247795                    NaN   \n",
       "\n",
       "                      ScientificName                CommonName     FrogCount  \\\n",
       "26776                Litoria ewingii  Southern Brown Tree Frog       5 to 10   \n",
       "26777        Limnodynastes dumerilii        Eastern Banjo Frog       5 to 10   \n",
       "27039                Litoria ewingii  Southern Brown Tree Frog  More than 10   \n",
       "27038  Litoria verreauxii verreauxii       Whistling Tree Frog  More than 10   \n",
       "26668                Litoria ewingii  Southern Brown Tree Frog       5 to 10   \n",
       "...                              ...                       ...           ...   \n",
       "23477        Limnodynastes dumerilii        Eastern Banjo Frog           10+   \n",
       "22588     Limnodynastes tasmaniensis        Spotted Marsh Frog           20+   \n",
       "23090     Limnodynastes tasmaniensis        Spotted Marsh Frog           30+   \n",
       "23473     Limnodynastes tasmaniensis        Spotted Marsh Frog           20+   \n",
       "22496               Crinia signifera    Eastern Common Froglet           20+   \n",
       "\n",
       "       Population                                           Comments  \\\n",
       "26776           7  A range of values was given. Number is the ave...   \n",
       "26777           7  A range of values was given. Number is the ave...   \n",
       "27039          10           found more than recorded number of frogs   \n",
       "27038          10           found more than recorded number of frogs   \n",
       "26668           7  A range of values was given. Number is the ave...   \n",
       "...           ...                                                ...   \n",
       "23477          10         Number of frogs is more than that recorded   \n",
       "22588          20         Number of frogs is more than that recorded   \n",
       "23090          30         Number of frogs is more than that recorded   \n",
       "23473          20         Number of frogs is more than that recorded   \n",
       "22496          20         Number of frogs is more than that recorded   \n",
       "\n",
       "                    Date_parsed  Year  distance_FrogsRus  \n",
       "26776 2016-10-06 00:00:00+00:00  2016           2.556410  \n",
       "26777 2016-10-06 00:00:00+00:00  2016           2.556410  \n",
       "27039 2016-10-19 00:00:00+00:00  2016           2.586303  \n",
       "27038 2016-10-19 00:00:00+00:00  2016           2.586303  \n",
       "26668 2016-09-27 00:00:00+00:00  2016           3.374765  \n",
       "...                         ...   ...                ...  \n",
       "23477 2012-11-06 00:00:00+00:00  2012          29.889997  \n",
       "22588 2011-09-21 00:00:00+00:00  2011          29.889997  \n",
       "23090 2012-03-07 00:00:00+00:00  2012          29.889997  \n",
       "23473 2012-11-06 00:00:00+00:00  2012          29.889997  \n",
       "22496 2011-07-21 00:00:00+00:00  2011          29.949335  \n",
       "\n",
       "[1944 rows x 12 columns]"
      ]
     },
     "execution_count": 52,
     "metadata": {},
     "output_type": "execute_result"
    }
   ],
   "source": [
    "# filter and sort by 'distance_FrogsRus' and 'Population'\n",
    "filtered_df = frog_prep_date[(frog_prep_date['distance_FrogsRus'] <= 30.0) & (frog_prep_date['Population'] > 5)]\n",
    "# filtered_df = frog_prep_date[frog_prep_date['distance_FrogsRus'] <= 40]\n",
    "df_sorted = filtered_df.sort_values(by='distance_FrogsRus', ascending=True)\n",
    "df_sorted"
   ]
  },
  {
   "cell_type": "code",
   "execution_count": 53,
   "id": "7974768b",
   "metadata": {},
   "outputs": [],
   "source": [
    "df_sorted.to_csv('sortedhaversine10years.csv', index=False)"
   ]
  },
  {
   "cell_type": "code",
   "execution_count": 54,
   "id": "96253a1d",
   "metadata": {},
   "outputs": [
    {
     "name": "stdout",
     "output_type": "stream",
     "text": [
      "<class 'pandas.core.frame.DataFrame'>\n",
      "Index: 1944 entries, 26776 to 22496\n",
      "Data columns (total 12 columns):\n",
      " #   Column             Non-Null Count  Dtype              \n",
      "---  ------             --------------  -----              \n",
      " 0   Date               1944 non-null   datetime64[ns, UTC]\n",
      " 1   Latitude           1944 non-null   float64            \n",
      " 2   Longitude          1944 non-null   float64            \n",
      " 3   ObservationType    1721 non-null   object             \n",
      " 4   ScientificName     1944 non-null   object             \n",
      " 5   CommonName         1944 non-null   object             \n",
      " 6   FrogCount          1944 non-null   object             \n",
      " 7   Population         1944 non-null   int64              \n",
      " 8   Comments           1767 non-null   object             \n",
      " 9   Date_parsed        1944 non-null   datetime64[ns, UTC]\n",
      " 10  Year               1944 non-null   int32              \n",
      " 11  distance_FrogsRus  1944 non-null   float64            \n",
      "dtypes: datetime64[ns, UTC](2), float64(3), int32(1), int64(1), object(5)\n",
      "memory usage: 189.8+ KB\n"
     ]
    }
   ],
   "source": [
    "df_sorted.info()"
   ]
  },
  {
   "cell_type": "markdown",
   "id": "f2837c84",
   "metadata": {},
   "source": [
    "# Plot 11 - population by location (within 30km of frogs are us, and with populations larger than 5.)"
   ]
  },
  {
   "cell_type": "code",
   "execution_count": 55,
   "id": "aec20f89",
   "metadata": {},
   "outputs": [
    {
     "data": {
      "text/plain": [
       "<Axes: xlabel='Latitude', ylabel='Longitude'>"
      ]
     },
     "execution_count": 55,
     "metadata": {},
     "output_type": "execute_result"
    },
    {
     "data": {
      "image/png": "[encoded data removed]",
      "text/plain": [
       "<Figure size 640x480 with 1 Axes>"
      ]
     },
     "metadata": {},
     "output_type": "display_data"
    }
   ],
   "source": [
    "df_sorted[['Latitude', 'Longitude']].plot(kind='scatter', x= 'Latitude', y = 'Longitude')"
   ]
  },
  {
   "cell_type": "code",
   "execution_count": 56,
   "id": "d6c28ffb",
   "metadata": {},
   "outputs": [],
   "source": [
    "top_25 = df_sorted.head(25)"
   ]
  },
  {
   "cell_type": "markdown",
   "id": "86631802",
   "metadata": {},
   "source": [
    "# Plot 12 - top 25 of selected population near frogsrus."
   ]
  },
  {
   "cell_type": "code",
   "execution_count": 57,
   "id": "7d6a335d",
   "metadata": {},
   "outputs": [
    {
     "data": {
      "text/plain": [
       "<Axes: xlabel='Latitude', ylabel='Longitude'>"
      ]
     },
     "execution_count": 57,
     "metadata": {},
     "output_type": "execute_result"
    },
    {
     "data": {
      "image/png": "[encoded data removed]",
      "text/plain": [
       "<Figure size 640x480 with 1 Axes>"
      ]
     },
     "metadata": {},
     "output_type": "display_data"
    }
   ],
   "source": [
    "top_25[['Latitude', 'Longitude']].plot(kind='scatter', x= 'Latitude', y = 'Longitude')"
   ]
  },
  {
   "cell_type": "markdown",
   "id": "403fbc95",
   "metadata": {},
   "source": [
    "This shows that the top 25 populations within 30 km of the FrogsRus (which is only 12 km from the center of melbourne) are scattered, with three sets of populations being near each other in locality.\n",
    "of these populations (plotting these on the map of melbourne we can see by zooming in that all these populations are located either in public golf courses, current wetlands, or green areas.  This would suggest that these populations have survived due to their habitat having been preserved.  If we look at the overall data within 30 km we can see that the majority of these are in areas where there is already established green areas.  "
   ]
  },
  {
   "cell_type": "code",
   "execution_count": null,
   "id": "ad0d865b",
   "metadata": {},
   "outputs": [],
   "source": []
  },
  {
   "cell_type": "code",
   "execution_count": null,
   "id": "70bf21a2",
   "metadata": {},
   "outputs": [],
   "source": []
  },
  {
   "cell_type": "code",
   "execution_count": null,
   "id": "11326065",
   "metadata": {},
   "outputs": [],
   "source": []
  },
  {
   "cell_type": "markdown",
   "id": "1ac81d88",
   "metadata": {},
   "source": [
    "JUST FOR INTEREST - RUNNING SEABORN"
   ]
  },
  {
   "cell_type": "markdown",
   "id": "496662a7",
   "metadata": {},
   "source": [
    "%pip install seaborn\n",
    "import seaborn\n",
    "import pandas"
   ]
  },
  {
   "cell_type": "code",
   "execution_count": 58,
   "id": "d0b23cbc",
   "metadata": {},
   "outputs": [
    {
     "ename": "NameError",
     "evalue": "name 'pandas' is not defined",
     "output_type": "error",
     "traceback": [
      "\u001b[0;31m---------------------------------------------------------------------------\u001b[0m",
      "\u001b[0;31mNameError\u001b[0m                                 Traceback (most recent call last)",
      "Cell \u001b[0;32mIn[58], line 1\u001b[0m\n\u001b[0;32m----> 1\u001b[0m data \u001b[38;5;241m=\u001b[39m pandas\u001b[38;5;241m.\u001b[39mread_csv(\u001b[38;5;124m'\u001b[39m\u001b[38;5;124m./last_10years_clean_df.csv\u001b[39m\u001b[38;5;124m'\u001b[39m)\n\u001b[1;32m      2\u001b[0m grid \u001b[38;5;241m=\u001b[39m seaborn\u001b[38;5;241m.\u001b[39mPairGrid(data)\n\u001b[1;32m      4\u001b[0m grid\u001b[38;5;241m.\u001b[39mmap_diag(seaborn\u001b[38;5;241m.\u001b[39mhistplot)\n",
      "\u001b[0;31mNameError\u001b[0m: name 'pandas' is not defined"
     ]
    }
   ],
   "source": [
    "data = pandas.read_csv('./last_10years_clean_df.csv')\n",
    "grid = seaborn.PairGrid(data)\n",
    "\n",
    "grid.map_diag(seaborn.histplot)\n",
    "grid.map_offdiag(seaborn.scatterplot)"
   ]
  },
  {
   "cell_type": "code",
   "execution_count": null,
   "id": "e13477f5",
   "metadata": {},
   "outputs": [],
   "source": []
  },
  {
   "cell_type": "markdown",
   "id": "00ddb26d",
   "metadata": {},
   "source": [
    "# PLOTTING WITH SUBURBS .JSON (did not get this done)"
   ]
  },
  {
   "cell_type": "code",
   "execution_count": null,
   "id": "4cba3b69",
   "metadata": {},
   "outputs": [],
   "source": [
    "# frog_prep_suburbe = pd.read_json('data.json')"
   ]
  },
  {
   "cell_type": "code",
   "execution_count": null,
   "id": "968d44ec",
   "metadata": {},
   "outputs": [],
   "source": [
    "# df_normalized = pd.json_normalize(df['data'])\n",
    "\n",
    "# df_normalized.head()"
   ]
  },
  {
   "cell_type": "code",
   "execution_count": null,
   "id": "dcbed3ab",
   "metadata": {},
   "outputs": [],
   "source": [
    "# grouped = df_normalized.groupby('age')"
   ]
  },
  {
   "cell_type": "code",
   "execution_count": null,
   "id": "46bc1e3a",
   "metadata": {},
   "outputs": [],
   "source": [
    "# df_normalized.plot()"
   ]
  },
  {
   "cell_type": "markdown",
   "id": "f1232bc7",
   "metadata": {},
   "source": [
    "DID NOT HAVE TIME TO FINISH THIS."
   ]
  },
  {
   "cell_type": "code",
   "execution_count": null,
   "id": "fc065ee0",
   "metadata": {},
   "outputs": [],
   "source": []
  },
  {
   "cell_type": "markdown",
   "id": "3ef6fa55",
   "metadata": {},
   "source": [
    "# option to do later - Frog species"
   ]
  },
  {
   "cell_type": "code",
   "execution_count": null,
   "id": "47fd66a0",
   "metadata": {},
   "outputs": [],
   "source": [
    "# frog_prep_df.nunique()"
   ]
  },
  {
   "cell_type": "code",
   "execution_count": null,
   "id": "52e72ddd",
   "metadata": {},
   "outputs": [],
   "source": [
    "# frog_prep_df['Scientific_name'].nunique()"
   ]
  },
  {
   "cell_type": "code",
   "execution_count": null,
   "id": "4fa73e36",
   "metadata": {},
   "outputs": [],
   "source": [
    "# frog_prep_df['Scientific_name'].unique()"
   ]
  },
  {
   "cell_type": "code",
   "execution_count": null,
   "id": "bf91a71b",
   "metadata": {},
   "outputs": [],
   "source": [
    "# frog_prep_df['Common_name'].nunique()"
   ]
  },
  {
   "cell_type": "code",
   "execution_count": null,
   "id": "7b330282",
   "metadata": {},
   "outputs": [],
   "source": [
    "# frog_prep_df['Common_name'].unique()"
   ]
  },
  {
   "cell_type": "code",
   "execution_count": null,
   "id": "ef3d7151",
   "metadata": {},
   "outputs": [],
   "source": [
    "# The issue here is that there are 30 Scientific Names, and 23 Common names for frogs. \n",
    "# \n",
    "# Therefore i need to look at a table of just these two columns and see how many have both\n",
    "# scientific names and common names, then i need to look at these pairs and see why there are so many more\n",
    "# scientific names.  \n",
    "# I also need to clean this data for duplicate spelling, and \n",
    "# spelling errors etc.  I can also see if sub-species of frogs recorded are important. I.e are there subspecies \n",
    "# of frog that are present in low numbers that may need to be conserved.\n"
   ]
  },
  {
   "cell_type": "code",
   "execution_count": null,
   "id": "92b04c38",
   "metadata": {},
   "outputs": [],
   "source": [
    "# 'scientific_name'\n",
    "# frog_name_df = frog_prep_df.copy()"
   ]
  },
  {
   "cell_type": "code",
   "execution_count": null,
   "id": "e031d92a",
   "metadata": {},
   "outputs": [],
   "source": [
    "# frog_name_df.groupby('Scientific_name').count()"
   ]
  },
  {
   "cell_type": "code",
   "execution_count": null,
   "id": "c4c4110a",
   "metadata": {},
   "outputs": [],
   "source": [
    "# frog_name_df.groupby('Common_name').count()"
   ]
  },
  {
   "cell_type": "code",
   "execution_count": null,
   "id": "bfe164ba",
   "metadata": {},
   "outputs": [],
   "source": []
  },
  {
   "cell_type": "code",
   "execution_count": null,
   "id": "92a38e21",
   "metadata": {},
   "outputs": [],
   "source": [
    "NOT APPLICABLE TO THIS PROBLEM:"
   ]
  },
  {
   "cell_type": "markdown",
   "id": "7798ea96",
   "metadata": {},
   "source": [
    "## Check for Index\n",
    "in this data set Unique_Id and Object_Id are both columns that act as an index.  At this time we do not require a dedicated index so we will ignore these columns unless there is a need to identify specific data rows using the given ids.\n",
    "Can use \n",
    "data_frame.index\n",
    "data_frame.set_index(column_name, inplace=True)"
   ]
  }
 ],
 "metadata": {
  "celltoolbar": "Slideshow",
  "kernelspec": {
   "display_name": "Python 3 (ipykernel)",
   "language": "python",
   "name": "python3"
  },
  "language_info": {
   "codemirror_mode": {
    "name": "ipython",
    "version": 3
   },
   "file_extension": ".py",
   "mimetype": "text/x-python",
   "name": "python",
   "nbconvert_exporter": "python",
   "pygments_lexer": "ipython3",
   "version": "3.11.5"
  }
 },
 "nbformat": 4,
 "nbformat_minor": 5
}
